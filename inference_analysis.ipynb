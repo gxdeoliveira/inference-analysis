{
 "cells": [
  {
   "cell_type": "markdown",
   "id": "72002877",
   "metadata": {},
   "source": [
    "# Inference Analysis\n",
    "\n",
    "This notebook contains the inference analysis of a survey conducted annually in the United States (National Health and Nutrition Examination Survey)."
   ]
  },
  {
   "cell_type": "markdown",
   "id": "6a681bc5",
   "metadata": {},
   "source": [
    "### This Inference analysis is organized as follows: \n",
    "\n",
    "1. <a href='#number_1'> Problem Framing </a>\n",
    "2. <a href='#number_2'> Database </a>\n",
    "3. <a href='#number_3'> Data Processing </a>\n",
    "4. <a href='#number_4'> Exploratory Data Analysis (EDA) - Univariate Analysis </a>\n",
    "5. <a href='#number_5'> Exploratory Data Analysis (EDA) - Bivariate Analysis + Statistical hypothesis testing </a>\n",
    "6. <a href='#number_6'> Statistical Hypothesis Testing </a>\n",
    "7. <a href='#number_7'> Aspects of Analysis </a>"
   ]
  },
  {
   "cell_type": "markdown",
   "id": "fa88a805",
   "metadata": {},
   "source": [
    "<a id='number_1'></a>\n",
    "### 1. Problem Framing\n",
    "   \n",
    "In this analysis, we will use data from a survey conducted annually in the United States (National Health and Nutrition Examination Survey) to assess: \n",
    "\n",
    "**(1) the profile of individuals (adults over 18 years of age) with depressive symptoms in the US in the period 2005-2006, and**\n",
    "\n",
    "**(2) whether healthy eating habits diet and physical activity are associated with lower rates of depression in this population.**\n",
    "\n",
    "Data collected includes demographic, socioeconomic, dietary and health-related issues, with the examination component containing medical, dental, physiological and laboratory tests. The survey examines a sample of approximately 5,000 people each year. In this challenge, we will assume that the data were obtained using a random sample of the population of interest and we will use usual techniques and analysis tools for random samples for didactic purposes."
   ]
  },
  {
   "cell_type": "markdown",
   "id": "a96f03f5",
   "metadata": {},
   "source": [
    "### 2. Database\n",
    "<a id='number_2'></a>"
   ]
  },
  {
   "cell_type": "code",
   "execution_count": 38,
   "id": "5c159d69",
   "metadata": {},
   "outputs": [],
   "source": [
    "# importing the libraries\n",
    "import pandas as pd\n",
    "import numpy as np\n",
    "import missingno as msno\n",
    "import seaborn as sns\n",
    "import matplotlib.pyplot as plt "
   ]
  },
  {
   "cell_type": "code",
   "execution_count": 5,
   "id": "238c6685",
   "metadata": {},
   "outputs": [],
   "source": [
    "# Importing the data\n",
    "demo = pd.read_csv(\"DEMO_PHQ.csv\")\n",
    "pag_hei = pd.read_csv(\"PAG_HEI.csv\")"
   ]
  },
  {
   "cell_type": "markdown",
   "id": "98742978",
   "metadata": {},
   "source": [
    "<a id='number_3'></a>\n",
    "### 3. Data Processing"
   ]
  },
  {
   "cell_type": "code",
   "execution_count": 8,
   "id": "b15edf3a",
   "metadata": {},
   "outputs": [
    {
     "name": "stdout",
     "output_type": "stream",
     "text": [
      "<class 'pandas.core.frame.DataFrame'>\n",
      "RangeIndex: 5334 entries, 0 to 5333\n",
      "Data columns (total 15 columns):\n",
      " #   Column    Non-Null Count  Dtype  \n",
      "---  ------    --------------  -----  \n",
      " 0   SEQN      5334 non-null   int64  \n",
      " 1   DPQ010    4836 non-null   float64\n",
      " 2   DPQ020    4836 non-null   float64\n",
      " 3   DPQ030    4836 non-null   float64\n",
      " 4   DPQ040    4836 non-null   float64\n",
      " 5   DPQ050    4836 non-null   float64\n",
      " 6   DPQ060    4836 non-null   float64\n",
      " 7   DPQ070    4836 non-null   float64\n",
      " 8   DPQ080    4836 non-null   float64\n",
      " 9   DPQ090    4836 non-null   float64\n",
      " 10  RIAGENDR  5334 non-null   int64  \n",
      " 11  RIDAGEYR  5334 non-null   int64  \n",
      " 12  RIDRETH1  5334 non-null   int64  \n",
      " 13  DMDEDUC   5334 non-null   int64  \n",
      " 14  INDFMINC  5287 non-null   float64\n",
      "dtypes: float64(10), int64(5)\n",
      "memory usage: 625.2 KB\n"
     ]
    }
   ],
   "source": [
    "demo.info()"
   ]
  },
  {
   "cell_type": "code",
   "execution_count": 7,
   "id": "a36584fc",
   "metadata": {},
   "outputs": [
    {
     "data": {
      "text/html": [
       "<div>\n",
       "<style scoped>\n",
       "    .dataframe tbody tr th:only-of-type {\n",
       "        vertical-align: middle;\n",
       "    }\n",
       "\n",
       "    .dataframe tbody tr th {\n",
       "        vertical-align: top;\n",
       "    }\n",
       "\n",
       "    .dataframe thead th {\n",
       "        text-align: right;\n",
       "    }\n",
       "</style>\n",
       "<table border=\"1\" class=\"dataframe\">\n",
       "  <thead>\n",
       "    <tr style=\"text-align: right;\">\n",
       "      <th></th>\n",
       "      <th>SEQN</th>\n",
       "      <th>DPQ010</th>\n",
       "      <th>DPQ020</th>\n",
       "      <th>DPQ030</th>\n",
       "      <th>DPQ040</th>\n",
       "      <th>DPQ050</th>\n",
       "      <th>DPQ060</th>\n",
       "      <th>DPQ070</th>\n",
       "      <th>DPQ080</th>\n",
       "      <th>DPQ090</th>\n",
       "      <th>RIAGENDR</th>\n",
       "      <th>RIDAGEYR</th>\n",
       "      <th>RIDRETH1</th>\n",
       "      <th>DMDEDUC</th>\n",
       "      <th>INDFMINC</th>\n",
       "    </tr>\n",
       "  </thead>\n",
       "  <tbody>\n",
       "    <tr>\n",
       "      <th>0</th>\n",
       "      <td>31130</td>\n",
       "      <td>NaN</td>\n",
       "      <td>NaN</td>\n",
       "      <td>NaN</td>\n",
       "      <td>NaN</td>\n",
       "      <td>NaN</td>\n",
       "      <td>NaN</td>\n",
       "      <td>NaN</td>\n",
       "      <td>NaN</td>\n",
       "      <td>NaN</td>\n",
       "      <td>2</td>\n",
       "      <td>85</td>\n",
       "      <td>3</td>\n",
       "      <td>4</td>\n",
       "      <td>4.0</td>\n",
       "    </tr>\n",
       "    <tr>\n",
       "      <th>1</th>\n",
       "      <td>31131</td>\n",
       "      <td>0.0</td>\n",
       "      <td>0.0</td>\n",
       "      <td>0.0</td>\n",
       "      <td>0.0</td>\n",
       "      <td>0.0</td>\n",
       "      <td>0.0</td>\n",
       "      <td>0.0</td>\n",
       "      <td>0.0</td>\n",
       "      <td>0.0</td>\n",
       "      <td>2</td>\n",
       "      <td>44</td>\n",
       "      <td>4</td>\n",
       "      <td>4</td>\n",
       "      <td>11.0</td>\n",
       "    </tr>\n",
       "    <tr>\n",
       "      <th>2</th>\n",
       "      <td>31132</td>\n",
       "      <td>0.0</td>\n",
       "      <td>0.0</td>\n",
       "      <td>0.0</td>\n",
       "      <td>0.0</td>\n",
       "      <td>0.0</td>\n",
       "      <td>0.0</td>\n",
       "      <td>0.0</td>\n",
       "      <td>0.0</td>\n",
       "      <td>0.0</td>\n",
       "      <td>1</td>\n",
       "      <td>70</td>\n",
       "      <td>3</td>\n",
       "      <td>5</td>\n",
       "      <td>11.0</td>\n",
       "    </tr>\n",
       "    <tr>\n",
       "      <th>3</th>\n",
       "      <td>31134</td>\n",
       "      <td>0.0</td>\n",
       "      <td>0.0</td>\n",
       "      <td>0.0</td>\n",
       "      <td>0.0</td>\n",
       "      <td>0.0</td>\n",
       "      <td>0.0</td>\n",
       "      <td>0.0</td>\n",
       "      <td>0.0</td>\n",
       "      <td>0.0</td>\n",
       "      <td>1</td>\n",
       "      <td>73</td>\n",
       "      <td>3</td>\n",
       "      <td>3</td>\n",
       "      <td>12.0</td>\n",
       "    </tr>\n",
       "    <tr>\n",
       "      <th>4</th>\n",
       "      <td>31139</td>\n",
       "      <td>0.0</td>\n",
       "      <td>0.0</td>\n",
       "      <td>0.0</td>\n",
       "      <td>0.0</td>\n",
       "      <td>3.0</td>\n",
       "      <td>1.0</td>\n",
       "      <td>0.0</td>\n",
       "      <td>0.0</td>\n",
       "      <td>0.0</td>\n",
       "      <td>2</td>\n",
       "      <td>18</td>\n",
       "      <td>2</td>\n",
       "      <td>3</td>\n",
       "      <td>11.0</td>\n",
       "    </tr>\n",
       "  </tbody>\n",
       "</table>\n",
       "</div>"
      ],
      "text/plain": [
       "    SEQN  DPQ010  DPQ020  DPQ030  DPQ040  DPQ050  DPQ060  DPQ070  DPQ080  \\\n",
       "0  31130     NaN     NaN     NaN     NaN     NaN     NaN     NaN     NaN   \n",
       "1  31131     0.0     0.0     0.0     0.0     0.0     0.0     0.0     0.0   \n",
       "2  31132     0.0     0.0     0.0     0.0     0.0     0.0     0.0     0.0   \n",
       "3  31134     0.0     0.0     0.0     0.0     0.0     0.0     0.0     0.0   \n",
       "4  31139     0.0     0.0     0.0     0.0     3.0     1.0     0.0     0.0   \n",
       "\n",
       "   DPQ090  RIAGENDR  RIDAGEYR  RIDRETH1  DMDEDUC  INDFMINC  \n",
       "0     NaN         2        85         3        4       4.0  \n",
       "1     0.0         2        44         4        4      11.0  \n",
       "2     0.0         1        70         3        5      11.0  \n",
       "3     0.0         1        73         3        3      12.0  \n",
       "4     0.0         2        18         2        3      11.0  "
      ]
     },
     "execution_count": 7,
     "metadata": {},
     "output_type": "execute_result"
    }
   ],
   "source": [
    "demo.head()"
   ]
  },
  {
   "cell_type": "code",
   "execution_count": 9,
   "id": "4d41153f",
   "metadata": {},
   "outputs": [
    {
     "name": "stdout",
     "output_type": "stream",
     "text": [
      "<class 'pandas.core.frame.DataFrame'>\n",
      "RangeIndex: 9424 entries, 0 to 9423\n",
      "Data columns (total 17 columns):\n",
      " #   Column                    Non-Null Count  Dtype  \n",
      "---  ------                    --------------  -----  \n",
      " 0   SEQN                      9424 non-null   int64  \n",
      " 1   PAG_MINW                  7150 non-null   float64\n",
      " 2   ADHERENCE                 7150 non-null   float64\n",
      " 3   HEI2015C1_TOTALVEG        8549 non-null   float64\n",
      " 4   HEI2015C2_GREEN_AND_BEAN  8549 non-null   float64\n",
      " 5   HEI2015C3_TOTALFRUIT      8549 non-null   float64\n",
      " 6   HEI2015C4_WHOLEFRUIT      8549 non-null   float64\n",
      " 7   HEI2015C5_WHOLEGRAIN      8549 non-null   float64\n",
      " 8   HEI2015C6_TOTALDAIRY      8549 non-null   float64\n",
      " 9   HEI2015C7_TOTPROT         8549 non-null   float64\n",
      " 10  HEI2015C8_SEAPLANT_PROT   8549 non-null   float64\n",
      " 11  HEI2015C9_FATTYACID       8549 non-null   float64\n",
      " 12  HEI2015C10_SODIUM         8549 non-null   float64\n",
      " 13  HEI2015C11_REFINEDGRAIN   8549 non-null   float64\n",
      " 14  HEI2015C12_SFAT           8549 non-null   float64\n",
      " 15  HEI2015C13_ADDSUG         8549 non-null   float64\n",
      " 16  HEI2015_TOTAL_SCORE       8549 non-null   float64\n",
      "dtypes: float64(16), int64(1)\n",
      "memory usage: 1.2 MB\n"
     ]
    }
   ],
   "source": [
    "pag_hei.info()"
   ]
  },
  {
   "cell_type": "markdown",
   "id": "e34533f9",
   "metadata": {},
   "source": [
    "#### Combining the database"
   ]
  },
  {
   "cell_type": "code",
   "execution_count": 10,
   "id": "e8eac1ce",
   "metadata": {},
   "outputs": [
    {
     "name": "stdout",
     "output_type": "stream",
     "text": [
      "<class 'pandas.core.frame.DataFrame'>\n",
      "Int64Index: 5334 entries, 0 to 5333\n",
      "Data columns (total 31 columns):\n",
      " #   Column                    Non-Null Count  Dtype  \n",
      "---  ------                    --------------  -----  \n",
      " 0   SEQN                      5334 non-null   int64  \n",
      " 1   DPQ010                    4836 non-null   float64\n",
      " 2   DPQ020                    4836 non-null   float64\n",
      " 3   DPQ030                    4836 non-null   float64\n",
      " 4   DPQ040                    4836 non-null   float64\n",
      " 5   DPQ050                    4836 non-null   float64\n",
      " 6   DPQ060                    4836 non-null   float64\n",
      " 7   DPQ070                    4836 non-null   float64\n",
      " 8   DPQ080                    4836 non-null   float64\n",
      " 9   DPQ090                    4836 non-null   float64\n",
      " 10  RIAGENDR                  5334 non-null   int64  \n",
      " 11  RIDAGEYR                  5334 non-null   int64  \n",
      " 12  RIDRETH1                  5334 non-null   int64  \n",
      " 13  DMDEDUC                   5334 non-null   int64  \n",
      " 14  INDFMINC                  5287 non-null   float64\n",
      " 15  PAG_MINW                  5334 non-null   float64\n",
      " 16  ADHERENCE                 5334 non-null   float64\n",
      " 17  HEI2015C1_TOTALVEG        5060 non-null   float64\n",
      " 18  HEI2015C2_GREEN_AND_BEAN  5060 non-null   float64\n",
      " 19  HEI2015C3_TOTALFRUIT      5060 non-null   float64\n",
      " 20  HEI2015C4_WHOLEFRUIT      5060 non-null   float64\n",
      " 21  HEI2015C5_WHOLEGRAIN      5060 non-null   float64\n",
      " 22  HEI2015C6_TOTALDAIRY      5060 non-null   float64\n",
      " 23  HEI2015C7_TOTPROT         5060 non-null   float64\n",
      " 24  HEI2015C8_SEAPLANT_PROT   5060 non-null   float64\n",
      " 25  HEI2015C9_FATTYACID       5060 non-null   float64\n",
      " 26  HEI2015C10_SODIUM         5060 non-null   float64\n",
      " 27  HEI2015C11_REFINEDGRAIN   5060 non-null   float64\n",
      " 28  HEI2015C12_SFAT           5060 non-null   float64\n",
      " 29  HEI2015C13_ADDSUG         5060 non-null   float64\n",
      " 30  HEI2015_TOTAL_SCORE       5060 non-null   float64\n",
      "dtypes: float64(26), int64(5)\n",
      "memory usage: 1.3 MB\n"
     ]
    }
   ],
   "source": [
    "db = demo.merge(pag_hei, on = 'SEQN', how = 'left')\n",
    "db.info()"
   ]
  },
  {
   "cell_type": "markdown",
   "id": "35dd6fb6",
   "metadata": {},
   "source": [
    "#### Treatment of variables"
   ]
  },
  {
   "cell_type": "markdown",
   "id": "5573991c",
   "metadata": {},
   "source": [
    "Evaluating the percentage of missing cases:"
   ]
  },
  {
   "cell_type": "code",
   "execution_count": 12,
   "id": "c292be63",
   "metadata": {},
   "outputs": [
    {
     "data": {
      "text/plain": [
       "SEQN                        0.00\n",
       "DPQ010                      9.34\n",
       "DPQ020                      9.34\n",
       "DPQ030                      9.34\n",
       "DPQ040                      9.34\n",
       "DPQ050                      9.34\n",
       "DPQ060                      9.34\n",
       "DPQ070                      9.34\n",
       "DPQ080                      9.34\n",
       "DPQ090                      9.34\n",
       "RIAGENDR                    0.00\n",
       "RIDAGEYR                    0.00\n",
       "RIDRETH1                    0.00\n",
       "DMDEDUC                     0.00\n",
       "INDFMINC                    0.88\n",
       "PAG_MINW                    0.00\n",
       "ADHERENCE                   0.00\n",
       "HEI2015C1_TOTALVEG          5.14\n",
       "HEI2015C2_GREEN_AND_BEAN    5.14\n",
       "HEI2015C3_TOTALFRUIT        5.14\n",
       "HEI2015C4_WHOLEFRUIT        5.14\n",
       "HEI2015C5_WHOLEGRAIN        5.14\n",
       "HEI2015C6_TOTALDAIRY        5.14\n",
       "HEI2015C7_TOTPROT           5.14\n",
       "HEI2015C8_SEAPLANT_PROT     5.14\n",
       "HEI2015C9_FATTYACID         5.14\n",
       "HEI2015C10_SODIUM           5.14\n",
       "HEI2015C11_REFINEDGRAIN     5.14\n",
       "HEI2015C12_SFAT             5.14\n",
       "HEI2015C13_ADDSUG           5.14\n",
       "HEI2015_TOTAL_SCORE         5.14\n",
       "dtype: float64"
      ]
     },
     "execution_count": 12,
     "metadata": {},
     "output_type": "execute_result"
    }
   ],
   "source": [
    "db.isnull().mean().round(4)*100"
   ]
  },
  {
   "cell_type": "markdown",
   "id": "a23c7133",
   "metadata": {},
   "source": [
    "#### Summary measures of quantitative variables:"
   ]
  },
  {
   "cell_type": "code",
   "execution_count": 14,
   "id": "369fb008",
   "metadata": {},
   "outputs": [
    {
     "data": {
      "text/html": [
       "<div>\n",
       "<style scoped>\n",
       "    .dataframe tbody tr th:only-of-type {\n",
       "        vertical-align: middle;\n",
       "    }\n",
       "\n",
       "    .dataframe tbody tr th {\n",
       "        vertical-align: top;\n",
       "    }\n",
       "\n",
       "    .dataframe thead th {\n",
       "        text-align: right;\n",
       "    }\n",
       "</style>\n",
       "<table border=\"1\" class=\"dataframe\">\n",
       "  <thead>\n",
       "    <tr style=\"text-align: right;\">\n",
       "      <th></th>\n",
       "      <th>DPQ010</th>\n",
       "      <th>DPQ020</th>\n",
       "      <th>DPQ030</th>\n",
       "      <th>DPQ040</th>\n",
       "      <th>DPQ050</th>\n",
       "      <th>DPQ060</th>\n",
       "      <th>DPQ070</th>\n",
       "      <th>DPQ080</th>\n",
       "      <th>DPQ090</th>\n",
       "      <th>RIAGENDR</th>\n",
       "      <th>...</th>\n",
       "      <th>HEI2015C5_WHOLEGRAIN</th>\n",
       "      <th>HEI2015C6_TOTALDAIRY</th>\n",
       "      <th>HEI2015C7_TOTPROT</th>\n",
       "      <th>HEI2015C8_SEAPLANT_PROT</th>\n",
       "      <th>HEI2015C9_FATTYACID</th>\n",
       "      <th>HEI2015C10_SODIUM</th>\n",
       "      <th>HEI2015C11_REFINEDGRAIN</th>\n",
       "      <th>HEI2015C12_SFAT</th>\n",
       "      <th>HEI2015C13_ADDSUG</th>\n",
       "      <th>HEI2015_TOTAL_SCORE</th>\n",
       "    </tr>\n",
       "  </thead>\n",
       "  <tbody>\n",
       "    <tr>\n",
       "      <th>count</th>\n",
       "      <td>4836.00</td>\n",
       "      <td>4836.00</td>\n",
       "      <td>4836.00</td>\n",
       "      <td>4836.00</td>\n",
       "      <td>4836.00</td>\n",
       "      <td>4836.00</td>\n",
       "      <td>4836.00</td>\n",
       "      <td>4836.00</td>\n",
       "      <td>4836.00</td>\n",
       "      <td>5334.00</td>\n",
       "      <td>...</td>\n",
       "      <td>5060.00</td>\n",
       "      <td>5060.00</td>\n",
       "      <td>5060.00</td>\n",
       "      <td>5060.00</td>\n",
       "      <td>5060.00</td>\n",
       "      <td>5060.00</td>\n",
       "      <td>5060.00</td>\n",
       "      <td>5060.00</td>\n",
       "      <td>5060.00</td>\n",
       "      <td>5060.00</td>\n",
       "    </tr>\n",
       "    <tr>\n",
       "      <th>mean</th>\n",
       "      <td>0.31</td>\n",
       "      <td>0.31</td>\n",
       "      <td>0.55</td>\n",
       "      <td>0.72</td>\n",
       "      <td>0.32</td>\n",
       "      <td>0.21</td>\n",
       "      <td>0.23</td>\n",
       "      <td>0.15</td>\n",
       "      <td>0.05</td>\n",
       "      <td>1.52</td>\n",
       "      <td>...</td>\n",
       "      <td>1.76</td>\n",
       "      <td>3.76</td>\n",
       "      <td>4.43</td>\n",
       "      <td>2.59</td>\n",
       "      <td>4.71</td>\n",
       "      <td>4.76</td>\n",
       "      <td>5.80</td>\n",
       "      <td>6.07</td>\n",
       "      <td>6.22</td>\n",
       "      <td>49.97</td>\n",
       "    </tr>\n",
       "    <tr>\n",
       "      <th>std</th>\n",
       "      <td>0.76</td>\n",
       "      <td>0.71</td>\n",
       "      <td>0.93</td>\n",
       "      <td>0.91</td>\n",
       "      <td>0.74</td>\n",
       "      <td>0.62</td>\n",
       "      <td>0.64</td>\n",
       "      <td>0.59</td>\n",
       "      <td>0.33</td>\n",
       "      <td>0.50</td>\n",
       "      <td>...</td>\n",
       "      <td>1.92</td>\n",
       "      <td>1.61</td>\n",
       "      <td>1.01</td>\n",
       "      <td>2.17</td>\n",
       "      <td>3.24</td>\n",
       "      <td>3.42</td>\n",
       "      <td>3.50</td>\n",
       "      <td>3.18</td>\n",
       "      <td>3.33</td>\n",
       "      <td>12.32</td>\n",
       "    </tr>\n",
       "    <tr>\n",
       "      <th>min</th>\n",
       "      <td>0.00</td>\n",
       "      <td>0.00</td>\n",
       "      <td>0.00</td>\n",
       "      <td>0.00</td>\n",
       "      <td>0.00</td>\n",
       "      <td>0.00</td>\n",
       "      <td>0.00</td>\n",
       "      <td>0.00</td>\n",
       "      <td>0.00</td>\n",
       "      <td>1.00</td>\n",
       "      <td>...</td>\n",
       "      <td>0.00</td>\n",
       "      <td>0.00</td>\n",
       "      <td>0.00</td>\n",
       "      <td>0.00</td>\n",
       "      <td>0.00</td>\n",
       "      <td>0.00</td>\n",
       "      <td>0.00</td>\n",
       "      <td>0.00</td>\n",
       "      <td>0.00</td>\n",
       "      <td>16.06</td>\n",
       "    </tr>\n",
       "    <tr>\n",
       "      <th>25%</th>\n",
       "      <td>0.00</td>\n",
       "      <td>0.00</td>\n",
       "      <td>0.00</td>\n",
       "      <td>0.00</td>\n",
       "      <td>0.00</td>\n",
       "      <td>0.00</td>\n",
       "      <td>0.00</td>\n",
       "      <td>0.00</td>\n",
       "      <td>0.00</td>\n",
       "      <td>1.00</td>\n",
       "      <td>...</td>\n",
       "      <td>0.00</td>\n",
       "      <td>2.59</td>\n",
       "      <td>4.17</td>\n",
       "      <td>0.00</td>\n",
       "      <td>2.02</td>\n",
       "      <td>1.59</td>\n",
       "      <td>2.93</td>\n",
       "      <td>3.70</td>\n",
       "      <td>3.72</td>\n",
       "      <td>41.03</td>\n",
       "    </tr>\n",
       "    <tr>\n",
       "      <th>50%</th>\n",
       "      <td>0.00</td>\n",
       "      <td>0.00</td>\n",
       "      <td>0.00</td>\n",
       "      <td>0.00</td>\n",
       "      <td>0.00</td>\n",
       "      <td>0.00</td>\n",
       "      <td>0.00</td>\n",
       "      <td>0.00</td>\n",
       "      <td>0.00</td>\n",
       "      <td>2.00</td>\n",
       "      <td>...</td>\n",
       "      <td>1.03</td>\n",
       "      <td>4.94</td>\n",
       "      <td>5.00</td>\n",
       "      <td>2.59</td>\n",
       "      <td>4.43</td>\n",
       "      <td>4.83</td>\n",
       "      <td>6.23</td>\n",
       "      <td>6.41</td>\n",
       "      <td>6.86</td>\n",
       "      <td>49.51</td>\n",
       "    </tr>\n",
       "    <tr>\n",
       "      <th>75%</th>\n",
       "      <td>0.00</td>\n",
       "      <td>0.00</td>\n",
       "      <td>1.00</td>\n",
       "      <td>1.00</td>\n",
       "      <td>0.00</td>\n",
       "      <td>0.00</td>\n",
       "      <td>0.00</td>\n",
       "      <td>0.00</td>\n",
       "      <td>0.00</td>\n",
       "      <td>2.00</td>\n",
       "      <td>...</td>\n",
       "      <td>3.41</td>\n",
       "      <td>5.00</td>\n",
       "      <td>5.00</td>\n",
       "      <td>5.00</td>\n",
       "      <td>7.27</td>\n",
       "      <td>7.65</td>\n",
       "      <td>9.25</td>\n",
       "      <td>9.00</td>\n",
       "      <td>9.45</td>\n",
       "      <td>58.17</td>\n",
       "    </tr>\n",
       "    <tr>\n",
       "      <th>95%</th>\n",
       "      <td>2.00</td>\n",
       "      <td>2.00</td>\n",
       "      <td>3.00</td>\n",
       "      <td>3.00</td>\n",
       "      <td>2.00</td>\n",
       "      <td>1.00</td>\n",
       "      <td>1.00</td>\n",
       "      <td>1.00</td>\n",
       "      <td>0.00</td>\n",
       "      <td>2.00</td>\n",
       "      <td>...</td>\n",
       "      <td>5.00</td>\n",
       "      <td>5.00</td>\n",
       "      <td>5.00</td>\n",
       "      <td>5.00</td>\n",
       "      <td>10.00</td>\n",
       "      <td>10.00</td>\n",
       "      <td>10.00</td>\n",
       "      <td>10.00</td>\n",
       "      <td>10.00</td>\n",
       "      <td>71.19</td>\n",
       "    </tr>\n",
       "    <tr>\n",
       "      <th>99%</th>\n",
       "      <td>3.00</td>\n",
       "      <td>3.00</td>\n",
       "      <td>3.00</td>\n",
       "      <td>3.00</td>\n",
       "      <td>3.00</td>\n",
       "      <td>3.00</td>\n",
       "      <td>3.00</td>\n",
       "      <td>3.00</td>\n",
       "      <td>1.00</td>\n",
       "      <td>2.00</td>\n",
       "      <td>...</td>\n",
       "      <td>5.00</td>\n",
       "      <td>5.00</td>\n",
       "      <td>5.00</td>\n",
       "      <td>5.00</td>\n",
       "      <td>10.00</td>\n",
       "      <td>10.00</td>\n",
       "      <td>10.00</td>\n",
       "      <td>10.00</td>\n",
       "      <td>10.00</td>\n",
       "      <td>79.86</td>\n",
       "    </tr>\n",
       "    <tr>\n",
       "      <th>max</th>\n",
       "      <td>9.00</td>\n",
       "      <td>9.00</td>\n",
       "      <td>9.00</td>\n",
       "      <td>9.00</td>\n",
       "      <td>9.00</td>\n",
       "      <td>9.00</td>\n",
       "      <td>9.00</td>\n",
       "      <td>9.00</td>\n",
       "      <td>9.00</td>\n",
       "      <td>2.00</td>\n",
       "      <td>...</td>\n",
       "      <td>5.00</td>\n",
       "      <td>5.00</td>\n",
       "      <td>5.00</td>\n",
       "      <td>5.00</td>\n",
       "      <td>10.00</td>\n",
       "      <td>10.00</td>\n",
       "      <td>10.00</td>\n",
       "      <td>10.00</td>\n",
       "      <td>10.00</td>\n",
       "      <td>89.53</td>\n",
       "    </tr>\n",
       "  </tbody>\n",
       "</table>\n",
       "<p>10 rows × 30 columns</p>\n",
       "</div>"
      ],
      "text/plain": [
       "        DPQ010   DPQ020   DPQ030   DPQ040   DPQ050   DPQ060   DPQ070   DPQ080  \\\n",
       "count  4836.00  4836.00  4836.00  4836.00  4836.00  4836.00  4836.00  4836.00   \n",
       "mean      0.31     0.31     0.55     0.72     0.32     0.21     0.23     0.15   \n",
       "std       0.76     0.71     0.93     0.91     0.74     0.62     0.64     0.59   \n",
       "min       0.00     0.00     0.00     0.00     0.00     0.00     0.00     0.00   \n",
       "25%       0.00     0.00     0.00     0.00     0.00     0.00     0.00     0.00   \n",
       "50%       0.00     0.00     0.00     0.00     0.00     0.00     0.00     0.00   \n",
       "75%       0.00     0.00     1.00     1.00     0.00     0.00     0.00     0.00   \n",
       "95%       2.00     2.00     3.00     3.00     2.00     1.00     1.00     1.00   \n",
       "99%       3.00     3.00     3.00     3.00     3.00     3.00     3.00     3.00   \n",
       "max       9.00     9.00     9.00     9.00     9.00     9.00     9.00     9.00   \n",
       "\n",
       "        DPQ090  RIAGENDR  ...  HEI2015C5_WHOLEGRAIN  HEI2015C6_TOTALDAIRY  \\\n",
       "count  4836.00   5334.00  ...               5060.00               5060.00   \n",
       "mean      0.05      1.52  ...                  1.76                  3.76   \n",
       "std       0.33      0.50  ...                  1.92                  1.61   \n",
       "min       0.00      1.00  ...                  0.00                  0.00   \n",
       "25%       0.00      1.00  ...                  0.00                  2.59   \n",
       "50%       0.00      2.00  ...                  1.03                  4.94   \n",
       "75%       0.00      2.00  ...                  3.41                  5.00   \n",
       "95%       0.00      2.00  ...                  5.00                  5.00   \n",
       "99%       1.00      2.00  ...                  5.00                  5.00   \n",
       "max       9.00      2.00  ...                  5.00                  5.00   \n",
       "\n",
       "       HEI2015C7_TOTPROT  HEI2015C8_SEAPLANT_PROT  HEI2015C9_FATTYACID  \\\n",
       "count            5060.00                  5060.00              5060.00   \n",
       "mean                4.43                     2.59                 4.71   \n",
       "std                 1.01                     2.17                 3.24   \n",
       "min                 0.00                     0.00                 0.00   \n",
       "25%                 4.17                     0.00                 2.02   \n",
       "50%                 5.00                     2.59                 4.43   \n",
       "75%                 5.00                     5.00                 7.27   \n",
       "95%                 5.00                     5.00                10.00   \n",
       "99%                 5.00                     5.00                10.00   \n",
       "max                 5.00                     5.00                10.00   \n",
       "\n",
       "       HEI2015C10_SODIUM  HEI2015C11_REFINEDGRAIN  HEI2015C12_SFAT  \\\n",
       "count            5060.00                  5060.00          5060.00   \n",
       "mean                4.76                     5.80             6.07   \n",
       "std                 3.42                     3.50             3.18   \n",
       "min                 0.00                     0.00             0.00   \n",
       "25%                 1.59                     2.93             3.70   \n",
       "50%                 4.83                     6.23             6.41   \n",
       "75%                 7.65                     9.25             9.00   \n",
       "95%                10.00                    10.00            10.00   \n",
       "99%                10.00                    10.00            10.00   \n",
       "max                10.00                    10.00            10.00   \n",
       "\n",
       "       HEI2015C13_ADDSUG  HEI2015_TOTAL_SCORE  \n",
       "count            5060.00              5060.00  \n",
       "mean                6.22                49.97  \n",
       "std                 3.33                12.32  \n",
       "min                 0.00                16.06  \n",
       "25%                 3.72                41.03  \n",
       "50%                 6.86                49.51  \n",
       "75%                 9.45                58.17  \n",
       "95%                10.00                71.19  \n",
       "99%                10.00                79.86  \n",
       "max                10.00                89.53  \n",
       "\n",
       "[10 rows x 30 columns]"
      ]
     },
     "execution_count": 14,
     "metadata": {},
     "output_type": "execute_result"
    }
   ],
   "source": [
    "db.drop(columns=['SEQN']).describe(percentiles = [.25, .5, .75, .95, .99]).round(2)"
   ]
  },
  {
   "cell_type": "markdown",
   "id": "ca99bcf2",
   "metadata": {},
   "source": [
    "#### Evaluating frequencies of qualitative variables:"
   ]
  },
  {
   "cell_type": "markdown",
   "id": "79fab4d8",
   "metadata": {},
   "source": [
    "\n",
    "Distribution of scores for PHQ9m"
   ]
  },
  {
   "cell_type": "code",
   "execution_count": 17,
   "id": "c959cba1",
   "metadata": {},
   "outputs": [
    {
     "data": {
      "text/html": [
       "<div>\n",
       "<style scoped>\n",
       "    .dataframe tbody tr th:only-of-type {\n",
       "        vertical-align: middle;\n",
       "    }\n",
       "\n",
       "    .dataframe tbody tr th {\n",
       "        vertical-align: top;\n",
       "    }\n",
       "\n",
       "    .dataframe thead tr th {\n",
       "        text-align: left;\n",
       "    }\n",
       "</style>\n",
       "<table border=\"1\" class=\"dataframe\">\n",
       "  <thead>\n",
       "    <tr>\n",
       "      <th></th>\n",
       "      <th>DPQ010</th>\n",
       "      <th>DPQ020</th>\n",
       "      <th>DPQ030</th>\n",
       "      <th>DPQ040</th>\n",
       "      <th>DPQ050</th>\n",
       "      <th>DPQ060</th>\n",
       "      <th>DPQ070</th>\n",
       "      <th>DPQ080</th>\n",
       "      <th>DPQ090</th>\n",
       "    </tr>\n",
       "    <tr>\n",
       "      <th></th>\n",
       "      <th>value_counts</th>\n",
       "      <th>value_counts</th>\n",
       "      <th>value_counts</th>\n",
       "      <th>value_counts</th>\n",
       "      <th>value_counts</th>\n",
       "      <th>value_counts</th>\n",
       "      <th>value_counts</th>\n",
       "      <th>value_counts</th>\n",
       "      <th>value_counts</th>\n",
       "    </tr>\n",
       "  </thead>\n",
       "  <tbody>\n",
       "    <tr>\n",
       "      <th>0.0</th>\n",
       "      <td>3850</td>\n",
       "      <td>3769</td>\n",
       "      <td>3152</td>\n",
       "      <td>2429</td>\n",
       "      <td>3813</td>\n",
       "      <td>4134</td>\n",
       "      <td>4070</td>\n",
       "      <td>4362</td>\n",
       "      <td>4667</td>\n",
       "    </tr>\n",
       "    <tr>\n",
       "      <th>1.0</th>\n",
       "      <td>673</td>\n",
       "      <td>769</td>\n",
       "      <td>1071</td>\n",
       "      <td>1706</td>\n",
       "      <td>691</td>\n",
       "      <td>513</td>\n",
       "      <td>545</td>\n",
       "      <td>341</td>\n",
       "      <td>122</td>\n",
       "    </tr>\n",
       "    <tr>\n",
       "      <th>2.0</th>\n",
       "      <td>180</td>\n",
       "      <td>179</td>\n",
       "      <td>286</td>\n",
       "      <td>370</td>\n",
       "      <td>160</td>\n",
       "      <td>95</td>\n",
       "      <td>118</td>\n",
       "      <td>79</td>\n",
       "      <td>32</td>\n",
       "    </tr>\n",
       "    <tr>\n",
       "      <th>3.0</th>\n",
       "      <td>124</td>\n",
       "      <td>114</td>\n",
       "      <td>320</td>\n",
       "      <td>326</td>\n",
       "      <td>168</td>\n",
       "      <td>89</td>\n",
       "      <td>99</td>\n",
       "      <td>45</td>\n",
       "      <td>13</td>\n",
       "    </tr>\n",
       "    <tr>\n",
       "      <th>9.0</th>\n",
       "      <td>9</td>\n",
       "      <td>5</td>\n",
       "      <td>7</td>\n",
       "      <td>5</td>\n",
       "      <td>4</td>\n",
       "      <td>5</td>\n",
       "      <td>4</td>\n",
       "      <td>9</td>\n",
       "      <td>2</td>\n",
       "    </tr>\n",
       "  </tbody>\n",
       "</table>\n",
       "</div>"
      ],
      "text/plain": [
       "          DPQ010       DPQ020       DPQ030       DPQ040       DPQ050  \\\n",
       "    value_counts value_counts value_counts value_counts value_counts   \n",
       "0.0         3850         3769         3152         2429         3813   \n",
       "1.0          673          769         1071         1706          691   \n",
       "2.0          180          179          286          370          160   \n",
       "3.0          124          114          320          326          168   \n",
       "9.0            9            5            7            5            4   \n",
       "\n",
       "          DPQ060       DPQ070       DPQ080       DPQ090  \n",
       "    value_counts value_counts value_counts value_counts  \n",
       "0.0         4134         4070         4362         4667  \n",
       "1.0          513          545          341          122  \n",
       "2.0           95          118           79           32  \n",
       "3.0           89           99           45           13  \n",
       "9.0            5            4            9            2  "
      ]
     },
     "execution_count": 17,
     "metadata": {},
     "output_type": "execute_result"
    }
   ],
   "source": [
    "db[[\n",
    "\"DPQ010\",\n",
    "\"DPQ020\",\n",
    "\"DPQ030\",\n",
    "\"DPQ040\",\n",
    "\"DPQ050\",\n",
    "\"DPQ060\",\n",
    "\"DPQ070\",\n",
    "\"DPQ080\",\n",
    "\"DPQ090\"]].agg(['value_counts'])"
   ]
  },
  {
   "cell_type": "markdown",
   "id": "2c09eb81",
   "metadata": {},
   "source": [
    "Distribution of racial identity:"
   ]
  },
  {
   "cell_type": "code",
   "execution_count": 18,
   "id": "d368953c",
   "metadata": {},
   "outputs": [
    {
     "data": {
      "text/plain": [
       "RIDRETH1\n",
       "1           1133\n",
       "2            164\n",
       "3           2516\n",
       "4           1300\n",
       "5            221\n",
       "dtype: int64"
      ]
     },
     "execution_count": 18,
     "metadata": {},
     "output_type": "execute_result"
    }
   ],
   "source": [
    "db[[\"RIDRETH1\"]].value_counts(sort = False)\n",
    "\n",
    "# RIDRETH1 com códigos errados no desafio\n",
    "# 1\tMexican American\t\n",
    "# 2\tOther Hispanic\n",
    "# 3\tNon-Hispanic White\t\n",
    "# 4\tNon-Hispanic Black\t\n",
    "# 5\tOther Race - Including Multi-Racial"
   ]
  },
  {
   "cell_type": "markdown",
   "id": "bf098b1b",
   "metadata": {},
   "source": [
    "Distribution of schooling:"
   ]
  },
  {
   "cell_type": "code",
   "execution_count": 20,
   "id": "d03b4310",
   "metadata": {},
   "outputs": [
    {
     "data": {
      "text/plain": [
       "DMDEDUC\n",
       "1           618\n",
       "2           936\n",
       "3          1335\n",
       "4          1498\n",
       "5           939\n",
       "7             4\n",
       "9             4\n",
       "dtype: int64"
      ]
     },
     "execution_count": 20,
     "metadata": {},
     "output_type": "execute_result"
    }
   ],
   "source": [
    "db[[\"DMDEDUC\"]].value_counts(sort = False)\n",
    "# 1 = Menor que 9o ano\n",
    "# 2 = 9-12o ano\n",
    "# 3 = Ensino médio\n",
    "# 4 = Ensino superior incompleto\n",
    "# 5 = Superior completo ou maior\n",
    "# 7 = Se recusou a responder\n",
    "# 9 = Não sabe"
   ]
  },
  {
   "cell_type": "markdown",
   "id": "d2a9e89d",
   "metadata": {},
   "source": [
    "Income distribution:\n"
   ]
  },
  {
   "cell_type": "code",
   "execution_count": 21,
   "id": "732a3142",
   "metadata": {},
   "outputs": [
    {
     "data": {
      "text/plain": [
       "INDFMINC\n",
       "1.0          190\n",
       "2.0          281\n",
       "3.0          440\n",
       "4.0          412\n",
       "5.0          426\n",
       "6.0          678\n",
       "7.0          535\n",
       "8.0          485\n",
       "9.0          297\n",
       "10.0         278\n",
       "11.0        1044\n",
       "12.0          78\n",
       "13.0          30\n",
       "77.0          36\n",
       "99.0          77\n",
       "dtype: int64"
      ]
     },
     "execution_count": 21,
     "metadata": {},
     "output_type": "execute_result"
    }
   ],
   "source": [
    "db[[\"INDFMINC\"]].value_counts(sort = False)\n",
    "# 1 = 0-4999\n",
    "# 2 - 5000-9999\n",
    "# 3 = 10000-14999\n",
    "# 4 = 15000-19999\n",
    "# 5 = 20000-24999\n",
    "# 6 = 25000-34999\n",
    "# 7 = 35000-44999\n",
    "# 8 = 45000-54999\n",
    "# 9 = 55000-64999\n",
    "# 10 = 65000-74999\n",
    "# 11 = Maior ou igual a 75000\n",
    "# 12 = Maior que 20000\n",
    "# 13 = Menor que 20000\n",
    "# 77 = Se recusou a responder\n",
    "# 99 = Não sabe"
   ]
  },
  {
   "cell_type": "markdown",
   "id": "9941178e",
   "metadata": {},
   "source": [
    "Adherence group distribution:\n"
   ]
  },
  {
   "cell_type": "code",
   "execution_count": 22,
   "id": "b0779748",
   "metadata": {},
   "outputs": [
    {
     "data": {
      "text/plain": [
       "ADHERENCE\n",
       "1.0          2304\n",
       "2.0           834\n",
       "3.0          2196\n",
       "dtype: int64"
      ]
     },
     "execution_count": 22,
     "metadata": {},
     "output_type": "execute_result"
    }
   ],
   "source": [
    "db[[\"ADHERENCE\"]].value_counts(sort = False)\n",
    "\n",
    "# 1 = Baixo (< 150 min/semana)\n",
    "# 2 = Adequado (150-300 min/semana)\n",
    "# 3 = Acima (> 300 min/semana)"
   ]
  },
  {
   "cell_type": "markdown",
   "id": "e75d86c6",
   "metadata": {},
   "source": [
    "#### Grouping/recategorizing qualitative variables:\n",
    "\n",
    "1) Replacing categories 7 and 9 with missing for variables DPQ0X0 and DMDEDUC\n",
    "\n",
    "2) Grouping categories 2 and 5 in variable RIDRETH1\n",
    "\n",
    "3) Recategorizing the INDMINC variable with the midpoint of each category because it contains many categories in this variable. We will continue the analysis of this variable as a quantitative variable"
   ]
  },
  {
   "cell_type": "code",
   "execution_count": 24,
   "id": "4983e9b0",
   "metadata": {},
   "outputs": [],
   "source": [
    "replace_map = {\n",
    "  \"DPQ010\": {7: np.nan, 9: np.nan},\n",
    "  \"DPQ020\": {7: np.nan, 9: np.nan},\n",
    "  \"DPQ030\": {7: np.nan, 9: np.nan},\n",
    "  \"DPQ040\": {7: np.nan, 9: np.nan},\n",
    "  \"DPQ050\": {7: np.nan, 9: np.nan},\n",
    "  \"DPQ060\": {7: np.nan, 9: np.nan},\n",
    "  \"DPQ070\": {7: np.nan, 9: np.nan},\n",
    "  \"DPQ080\": {7: np.nan, 9: np.nan},\n",
    "  \"DPQ090\": {7: np.nan, 9: np.nan},\n",
    "  \"RIDRETH1\": {5: 2}, # Other\n",
    "  \"DMDEDUC\": {7: np.nan, 9: np.nan},\n",
    "  \"INDFMINC\": {1: np.mean([0,4999]), 2: np.mean([5000,9999]), 3: np.mean([10000,14999]),4: np.mean([15000,19999]),\n",
    "               5: np.mean([20000,24999]),6: np.mean([25000,34999]), 7: np.mean([35000,44999]), 8: np.mean([45000,54999]),\n",
    "               9: np.mean([55000,64999]), 10: np.mean([65000,74999]), 11: 75000, 12: np.mean([20000, 90000]), 13: np.mean([0, 19999]),\n",
    "               77: np.nan, 99: np.nan}\n",
    "}\n",
    "\n",
    "db2 = db.replace(replace_map)"
   ]
  },
  {
   "cell_type": "markdown",
   "id": "09231079",
   "metadata": {},
   "source": [
    "\n",
    "#### Construction of variables"
   ]
  },
  {
   "cell_type": "markdown",
   "id": "1f426957",
   "metadata": {},
   "source": [
    "Checking missing cases for phq9 variables:"
   ]
  },
  {
   "cell_type": "code",
   "execution_count": 26,
   "id": "66895717",
   "metadata": {},
   "outputs": [
    {
     "data": {
      "text/plain": [
       "DPQ010    0.095051\n",
       "DPQ020    0.094301\n",
       "DPQ030    0.094676\n",
       "DPQ040    0.094301\n",
       "DPQ050    0.094113\n",
       "DPQ060    0.094301\n",
       "DPQ070    0.094113\n",
       "DPQ080    0.095051\n",
       "DPQ090    0.093738\n",
       "dtype: float64"
      ]
     },
     "execution_count": 26,
     "metadata": {},
     "output_type": "execute_result"
    }
   ],
   "source": [
    "db2[[\"DPQ010\", \n",
    "     \"DPQ020\", \n",
    "     \"DPQ030\", \n",
    "     \"DPQ040\",\n",
    "     \"DPQ050\", \n",
    "     \"DPQ060\", \n",
    "     \"DPQ070\", \n",
    "     \"DPQ080\", \n",
    "     \"DPQ090\"]].isnull().mean()"
   ]
  },
  {
   "cell_type": "markdown",
   "id": "249a19f9",
   "metadata": {},
   "source": [
    "Building variable phq9:"
   ]
  },
  {
   "cell_type": "code",
   "execution_count": 27,
   "id": "e0e5adcd",
   "metadata": {},
   "outputs": [
    {
     "data": {
      "text/html": [
       "<div>\n",
       "<style scoped>\n",
       "    .dataframe tbody tr th:only-of-type {\n",
       "        vertical-align: middle;\n",
       "    }\n",
       "\n",
       "    .dataframe tbody tr th {\n",
       "        vertical-align: top;\n",
       "    }\n",
       "\n",
       "    .dataframe thead th {\n",
       "        text-align: right;\n",
       "    }\n",
       "</style>\n",
       "<table border=\"1\" class=\"dataframe\">\n",
       "  <thead>\n",
       "    <tr style=\"text-align: right;\">\n",
       "      <th></th>\n",
       "      <th>DPQ010</th>\n",
       "      <th>DPQ020</th>\n",
       "      <th>DPQ030</th>\n",
       "      <th>DPQ040</th>\n",
       "      <th>DPQ050</th>\n",
       "      <th>DPQ060</th>\n",
       "      <th>DPQ070</th>\n",
       "      <th>DPQ080</th>\n",
       "      <th>DPQ090</th>\n",
       "      <th>phq9</th>\n",
       "    </tr>\n",
       "  </thead>\n",
       "  <tbody>\n",
       "    <tr>\n",
       "      <th>0</th>\n",
       "      <td>NaN</td>\n",
       "      <td>NaN</td>\n",
       "      <td>NaN</td>\n",
       "      <td>NaN</td>\n",
       "      <td>NaN</td>\n",
       "      <td>NaN</td>\n",
       "      <td>NaN</td>\n",
       "      <td>NaN</td>\n",
       "      <td>NaN</td>\n",
       "      <td>NaN</td>\n",
       "    </tr>\n",
       "    <tr>\n",
       "      <th>1</th>\n",
       "      <td>0.0</td>\n",
       "      <td>0.0</td>\n",
       "      <td>0.0</td>\n",
       "      <td>0.0</td>\n",
       "      <td>0.0</td>\n",
       "      <td>0.0</td>\n",
       "      <td>0.0</td>\n",
       "      <td>0.0</td>\n",
       "      <td>0.0</td>\n",
       "      <td>0.0</td>\n",
       "    </tr>\n",
       "    <tr>\n",
       "      <th>2</th>\n",
       "      <td>0.0</td>\n",
       "      <td>0.0</td>\n",
       "      <td>0.0</td>\n",
       "      <td>0.0</td>\n",
       "      <td>0.0</td>\n",
       "      <td>0.0</td>\n",
       "      <td>0.0</td>\n",
       "      <td>0.0</td>\n",
       "      <td>0.0</td>\n",
       "      <td>0.0</td>\n",
       "    </tr>\n",
       "    <tr>\n",
       "      <th>3</th>\n",
       "      <td>0.0</td>\n",
       "      <td>0.0</td>\n",
       "      <td>0.0</td>\n",
       "      <td>0.0</td>\n",
       "      <td>0.0</td>\n",
       "      <td>0.0</td>\n",
       "      <td>0.0</td>\n",
       "      <td>0.0</td>\n",
       "      <td>0.0</td>\n",
       "      <td>0.0</td>\n",
       "    </tr>\n",
       "    <tr>\n",
       "      <th>4</th>\n",
       "      <td>0.0</td>\n",
       "      <td>0.0</td>\n",
       "      <td>0.0</td>\n",
       "      <td>0.0</td>\n",
       "      <td>3.0</td>\n",
       "      <td>1.0</td>\n",
       "      <td>0.0</td>\n",
       "      <td>0.0</td>\n",
       "      <td>0.0</td>\n",
       "      <td>4.0</td>\n",
       "    </tr>\n",
       "  </tbody>\n",
       "</table>\n",
       "</div>"
      ],
      "text/plain": [
       "   DPQ010  DPQ020  DPQ030  DPQ040  DPQ050  DPQ060  DPQ070  DPQ080  DPQ090  \\\n",
       "0     NaN     NaN     NaN     NaN     NaN     NaN     NaN     NaN     NaN   \n",
       "1     0.0     0.0     0.0     0.0     0.0     0.0     0.0     0.0     0.0   \n",
       "2     0.0     0.0     0.0     0.0     0.0     0.0     0.0     0.0     0.0   \n",
       "3     0.0     0.0     0.0     0.0     0.0     0.0     0.0     0.0     0.0   \n",
       "4     0.0     0.0     0.0     0.0     3.0     1.0     0.0     0.0     0.0   \n",
       "\n",
       "   phq9  \n",
       "0   NaN  \n",
       "1   0.0  \n",
       "2   0.0  \n",
       "3   0.0  \n",
       "4   4.0  "
      ]
     },
     "execution_count": 27,
     "metadata": {},
     "output_type": "execute_result"
    }
   ],
   "source": [
    "db2[\"phq9\"] = db2[[\"DPQ010\", \n",
    "                   \"DPQ020\", \n",
    "                   \"DPQ030\", \n",
    "                   \"DPQ040\", \n",
    "                   \"DPQ050\", \n",
    "                   \"DPQ060\", \n",
    "                   \"DPQ070\", \n",
    "                   \"DPQ080\", \n",
    "                   \"DPQ090\"]].sum(axis = 'columns', skipna = False)\n",
    "\n",
    "db2[[\"DPQ010\", \n",
    "     \"DPQ020\", \n",
    "     \"DPQ030\", \n",
    "     \"DPQ040\",\n",
    "     \"DPQ050\", \n",
    "     \"DPQ060\", \n",
    "     \"DPQ070\", \n",
    "     \"DPQ080\", \n",
    "     \"DPQ090\",\n",
    "     \"phq9\"]].head()"
   ]
  },
  {
   "cell_type": "markdown",
   "id": "2bdb573d",
   "metadata": {},
   "source": [
    "Building phq_grp variable:"
   ]
  },
  {
   "cell_type": "code",
   "execution_count": 29,
   "id": "116e1727",
   "metadata": {},
   "outputs": [
    {
     "data": {
      "text/plain": [
       "phq_grp\n",
       "0.0        4013\n",
       "1.0         489\n",
       "2.0         201\n",
       "3.0          73\n",
       "4.0          23\n",
       "dtype: int64"
      ]
     },
     "execution_count": 29,
     "metadata": {},
     "output_type": "execute_result"
    }
   ],
   "source": [
    "conditions = [\n",
    "  (db2['phq9'].isna()),\n",
    "  (db2['phq9'] <= 5),\n",
    "  (db2['phq9'] > 5) & (db2['phq9'] <= 9),\n",
    "  (db2['phq9'] > 9) & (db2['phq9'] <= 14),\n",
    "  (db2['phq9'] > 14) & (db2['phq9'] <= 19),\n",
    "  (db2['phq9'] > 19)\n",
    "    ]\n",
    "values = [np.nan, 0, 1, 2, 3, 4]\n",
    "\n",
    "db2[\"phq_grp\"] = np.select(conditions, values) # Construindo variável\n",
    "\n",
    "db2[[\"phq_grp\"]].value_counts(sort = False) # Evaluating frequency\n"
   ]
  },
  {
   "cell_type": "markdown",
   "id": "213fde5a",
   "metadata": {},
   "source": [
    "We can build new variables from the phq_grp variable:\n"
   ]
  },
  {
   "cell_type": "code",
   "execution_count": 30,
   "id": "fac7d3f5",
   "metadata": {},
   "outputs": [
    {
     "data": {
      "text/plain": [
       "phq_grp2\n",
       "0.0         4013\n",
       "1.0          489\n",
       "2.0          297\n",
       "dtype: int64"
      ]
     },
     "execution_count": 30,
     "metadata": {},
     "output_type": "execute_result"
    }
   ],
   "source": [
    "# Grouping phq_grp into 0 = No symptoms, 1 = Mild symptoms, 2 = Moderate to severe symptoms\n",
    "\n",
    "db2[\"phq_grp2\"] = db2[\"phq_grp\"].replace([3, 4], 2)\n",
    "\n",
    "db2[[\"phq_grp2\"]].value_counts(sort = False) # Evaluating frequency"
   ]
  },
  {
   "cell_type": "markdown",
   "id": "a4c15c73",
   "metadata": {},
   "source": [
    "#### 1) For the exploratory analysis and hypothesis testing stages, we will use the variable phq_grp2 with 3 levels of depression symptoms.\n",
    "\n",
    "#### 2) As the percentage of missing is below 10% for all variables, we will continue the analysis using only complete data."
   ]
  },
  {
   "cell_type": "markdown",
   "id": "1fab2a6c",
   "metadata": {},
   "source": [
    "<a id='number_4'></a>\n",
    "### 4. Exploratory Data Analysis (EDA) - Univariate Analysis"
   ]
  },
  {
   "cell_type": "code",
   "execution_count": 31,
   "id": "7f42c32b",
   "metadata": {},
   "outputs": [],
   "source": [
    "var_quant = [\n",
    "    \"RIDAGEYR\", \n",
    "    \"INDFMINC\", \n",
    "    \"PAG_MINW\", \n",
    "    \"HEI2015C1_TOTALVEG\",\n",
    "    \"HEI2015C2_GREEN_AND_BEAN\",\n",
    "    \"HEI2015C3_TOTALFRUIT\",\n",
    "    \"HEI2015C4_WHOLEFRUIT\",\n",
    "    \"HEI2015C5_WHOLEGRAIN\",\n",
    "    \"HEI2015C6_TOTALDAIRY\",\n",
    "    \"HEI2015C7_TOTPROT\",\n",
    "    \"HEI2015C8_SEAPLANT_PROT\",\n",
    "    \"HEI2015C9_FATTYACID\",\n",
    "    \"HEI2015C10_SODIUM\",\n",
    "    \"HEI2015C11_REFINEDGRAIN\",\n",
    "    \"HEI2015C12_SFAT\",\n",
    "    \"HEI2015C13_ADDSUG\",\n",
    "    \"HEI2015_TOTAL_SCORE\",\n",
    "    \"phq9\"]\n",
    "\n",
    "var_quali = [\n",
    "    \"RIAGENDR\",\n",
    "    \"RIDRETH1\",\n",
    "    \"DMDEDUC\",\n",
    "    \"ADHERENCE\",\n",
    "    \"phq_grp2\"\n",
    "]\n",
    "\n",
    "label_quali = {\n",
    "  \"RIAGENDR\": {1: 'Masculino', 2: 'Feminino'},\n",
    "  \"RIDRETH1\": {1: 'Americano Mexicano', 2: 'Outro', 3: 'Branco \\n não hispânico', 4: 'Negro \\n não hispânico'},\n",
    "  \"DMDEDUC\": {1: \"< 9 ano\", 2: \"9-12 ano\", 3: \"Ensino \\n médio\", 4: \"Superior \\n incompleto\", 5: \"Superior \\n completo\"},\n",
    "  \"ADHERENCE\": {1: 'Baixo', 2: 'Adequado', 3: 'Acima'},\n",
    "  \"phq_grp2\": {0: \"Sem sintomas\", 1: \"Sintomas \\n leves\", 2: \"Sintomas \\n moderados-severos\"}\n",
    "}"
   ]
  },
  {
   "cell_type": "code",
   "execution_count": 32,
   "id": "156ee6bc",
   "metadata": {},
   "outputs": [
    {
     "data": {
      "text/html": [
       "<div>\n",
       "<style scoped>\n",
       "    .dataframe tbody tr th:only-of-type {\n",
       "        vertical-align: middle;\n",
       "    }\n",
       "\n",
       "    .dataframe tbody tr th {\n",
       "        vertical-align: top;\n",
       "    }\n",
       "\n",
       "    .dataframe thead th {\n",
       "        text-align: right;\n",
       "    }\n",
       "</style>\n",
       "<table border=\"1\" class=\"dataframe\">\n",
       "  <thead>\n",
       "    <tr style=\"text-align: right;\">\n",
       "      <th></th>\n",
       "      <th>RIDAGEYR</th>\n",
       "      <th>INDFMINC</th>\n",
       "      <th>PAG_MINW</th>\n",
       "      <th>HEI2015C1_TOTALVEG</th>\n",
       "      <th>HEI2015C2_GREEN_AND_BEAN</th>\n",
       "      <th>HEI2015C3_TOTALFRUIT</th>\n",
       "      <th>HEI2015C4_WHOLEFRUIT</th>\n",
       "      <th>HEI2015C5_WHOLEGRAIN</th>\n",
       "      <th>HEI2015C6_TOTALDAIRY</th>\n",
       "      <th>HEI2015C7_TOTPROT</th>\n",
       "      <th>HEI2015C8_SEAPLANT_PROT</th>\n",
       "      <th>HEI2015C9_FATTYACID</th>\n",
       "      <th>HEI2015C10_SODIUM</th>\n",
       "      <th>HEI2015C11_REFINEDGRAIN</th>\n",
       "      <th>HEI2015C12_SFAT</th>\n",
       "      <th>HEI2015C13_ADDSUG</th>\n",
       "      <th>HEI2015_TOTAL_SCORE</th>\n",
       "      <th>phq9</th>\n",
       "    </tr>\n",
       "  </thead>\n",
       "  <tbody>\n",
       "    <tr>\n",
       "      <th>count</th>\n",
       "      <td>5334.00</td>\n",
       "      <td>5174.00</td>\n",
       "      <td>5334.00</td>\n",
       "      <td>5060.00</td>\n",
       "      <td>5060.00</td>\n",
       "      <td>5060.00</td>\n",
       "      <td>5060.00</td>\n",
       "      <td>5060.00</td>\n",
       "      <td>5060.00</td>\n",
       "      <td>5060.00</td>\n",
       "      <td>5060.00</td>\n",
       "      <td>5060.00</td>\n",
       "      <td>5060.00</td>\n",
       "      <td>5060.00</td>\n",
       "      <td>5060.00</td>\n",
       "      <td>5060.00</td>\n",
       "      <td>5060.00</td>\n",
       "      <td>4799.00</td>\n",
       "    </tr>\n",
       "    <tr>\n",
       "      <th>mean</th>\n",
       "      <td>45.09</td>\n",
       "      <td>40787.68</td>\n",
       "      <td>471.77</td>\n",
       "      <td>3.20</td>\n",
       "      <td>1.81</td>\n",
       "      <td>2.49</td>\n",
       "      <td>2.36</td>\n",
       "      <td>1.76</td>\n",
       "      <td>3.76</td>\n",
       "      <td>4.43</td>\n",
       "      <td>2.59</td>\n",
       "      <td>4.71</td>\n",
       "      <td>4.76</td>\n",
       "      <td>5.80</td>\n",
       "      <td>6.07</td>\n",
       "      <td>6.22</td>\n",
       "      <td>49.97</td>\n",
       "      <td>2.73</td>\n",
       "    </tr>\n",
       "    <tr>\n",
       "      <th>std</th>\n",
       "      <td>20.15</td>\n",
       "      <td>24247.24</td>\n",
       "      <td>780.35</td>\n",
       "      <td>1.47</td>\n",
       "      <td>2.14</td>\n",
       "      <td>1.95</td>\n",
       "      <td>2.17</td>\n",
       "      <td>1.92</td>\n",
       "      <td>1.61</td>\n",
       "      <td>1.01</td>\n",
       "      <td>2.17</td>\n",
       "      <td>3.24</td>\n",
       "      <td>3.42</td>\n",
       "      <td>3.50</td>\n",
       "      <td>3.18</td>\n",
       "      <td>3.33</td>\n",
       "      <td>12.32</td>\n",
       "      <td>3.73</td>\n",
       "    </tr>\n",
       "    <tr>\n",
       "      <th>min</th>\n",
       "      <td>18.00</td>\n",
       "      <td>2499.50</td>\n",
       "      <td>0.00</td>\n",
       "      <td>0.00</td>\n",
       "      <td>0.00</td>\n",
       "      <td>0.00</td>\n",
       "      <td>0.00</td>\n",
       "      <td>0.00</td>\n",
       "      <td>0.00</td>\n",
       "      <td>0.00</td>\n",
       "      <td>0.00</td>\n",
       "      <td>0.00</td>\n",
       "      <td>0.00</td>\n",
       "      <td>0.00</td>\n",
       "      <td>0.00</td>\n",
       "      <td>0.00</td>\n",
       "      <td>16.06</td>\n",
       "      <td>0.00</td>\n",
       "    </tr>\n",
       "    <tr>\n",
       "      <th>25%</th>\n",
       "      <td>27.00</td>\n",
       "      <td>17499.50</td>\n",
       "      <td>35.00</td>\n",
       "      <td>2.06</td>\n",
       "      <td>0.00</td>\n",
       "      <td>0.45</td>\n",
       "      <td>0.00</td>\n",
       "      <td>0.00</td>\n",
       "      <td>2.59</td>\n",
       "      <td>4.17</td>\n",
       "      <td>0.00</td>\n",
       "      <td>2.02</td>\n",
       "      <td>1.59</td>\n",
       "      <td>2.93</td>\n",
       "      <td>3.70</td>\n",
       "      <td>3.72</td>\n",
       "      <td>41.03</td>\n",
       "      <td>0.00</td>\n",
       "    </tr>\n",
       "    <tr>\n",
       "      <th>50%</th>\n",
       "      <td>43.00</td>\n",
       "      <td>39999.50</td>\n",
       "      <td>210.00</td>\n",
       "      <td>3.22</td>\n",
       "      <td>0.06</td>\n",
       "      <td>2.32</td>\n",
       "      <td>2.08</td>\n",
       "      <td>1.03</td>\n",
       "      <td>4.94</td>\n",
       "      <td>5.00</td>\n",
       "      <td>2.59</td>\n",
       "      <td>4.43</td>\n",
       "      <td>4.83</td>\n",
       "      <td>6.23</td>\n",
       "      <td>6.41</td>\n",
       "      <td>6.86</td>\n",
       "      <td>49.51</td>\n",
       "      <td>1.00</td>\n",
       "    </tr>\n",
       "    <tr>\n",
       "      <th>75%</th>\n",
       "      <td>62.00</td>\n",
       "      <td>69999.50</td>\n",
       "      <td>568.93</td>\n",
       "      <td>4.83</td>\n",
       "      <td>4.50</td>\n",
       "      <td>4.94</td>\n",
       "      <td>5.00</td>\n",
       "      <td>3.41</td>\n",
       "      <td>5.00</td>\n",
       "      <td>5.00</td>\n",
       "      <td>5.00</td>\n",
       "      <td>7.27</td>\n",
       "      <td>7.65</td>\n",
       "      <td>9.25</td>\n",
       "      <td>9.00</td>\n",
       "      <td>9.45</td>\n",
       "      <td>58.17</td>\n",
       "      <td>4.00</td>\n",
       "    </tr>\n",
       "    <tr>\n",
       "      <th>95%</th>\n",
       "      <td>81.00</td>\n",
       "      <td>75000.00</td>\n",
       "      <td>1863.05</td>\n",
       "      <td>5.00</td>\n",
       "      <td>5.00</td>\n",
       "      <td>5.00</td>\n",
       "      <td>5.00</td>\n",
       "      <td>5.00</td>\n",
       "      <td>5.00</td>\n",
       "      <td>5.00</td>\n",
       "      <td>5.00</td>\n",
       "      <td>10.00</td>\n",
       "      <td>10.00</td>\n",
       "      <td>10.00</td>\n",
       "      <td>10.00</td>\n",
       "      <td>10.00</td>\n",
       "      <td>71.19</td>\n",
       "      <td>10.00</td>\n",
       "    </tr>\n",
       "    <tr>\n",
       "      <th>99%</th>\n",
       "      <td>85.00</td>\n",
       "      <td>75000.00</td>\n",
       "      <td>3672.06</td>\n",
       "      <td>5.00</td>\n",
       "      <td>5.00</td>\n",
       "      <td>5.00</td>\n",
       "      <td>5.00</td>\n",
       "      <td>5.00</td>\n",
       "      <td>5.00</td>\n",
       "      <td>5.00</td>\n",
       "      <td>5.00</td>\n",
       "      <td>10.00</td>\n",
       "      <td>10.00</td>\n",
       "      <td>10.00</td>\n",
       "      <td>10.00</td>\n",
       "      <td>10.00</td>\n",
       "      <td>79.86</td>\n",
       "      <td>17.00</td>\n",
       "    </tr>\n",
       "    <tr>\n",
       "      <th>max</th>\n",
       "      <td>85.00</td>\n",
       "      <td>75000.00</td>\n",
       "      <td>10777.83</td>\n",
       "      <td>5.00</td>\n",
       "      <td>5.00</td>\n",
       "      <td>5.00</td>\n",
       "      <td>5.00</td>\n",
       "      <td>5.00</td>\n",
       "      <td>5.00</td>\n",
       "      <td>5.00</td>\n",
       "      <td>5.00</td>\n",
       "      <td>10.00</td>\n",
       "      <td>10.00</td>\n",
       "      <td>10.00</td>\n",
       "      <td>10.00</td>\n",
       "      <td>10.00</td>\n",
       "      <td>89.53</td>\n",
       "      <td>27.00</td>\n",
       "    </tr>\n",
       "  </tbody>\n",
       "</table>\n",
       "</div>"
      ],
      "text/plain": [
       "       RIDAGEYR  INDFMINC  PAG_MINW  HEI2015C1_TOTALVEG  \\\n",
       "count   5334.00   5174.00   5334.00             5060.00   \n",
       "mean      45.09  40787.68    471.77                3.20   \n",
       "std       20.15  24247.24    780.35                1.47   \n",
       "min       18.00   2499.50      0.00                0.00   \n",
       "25%       27.00  17499.50     35.00                2.06   \n",
       "50%       43.00  39999.50    210.00                3.22   \n",
       "75%       62.00  69999.50    568.93                4.83   \n",
       "95%       81.00  75000.00   1863.05                5.00   \n",
       "99%       85.00  75000.00   3672.06                5.00   \n",
       "max       85.00  75000.00  10777.83                5.00   \n",
       "\n",
       "       HEI2015C2_GREEN_AND_BEAN  HEI2015C3_TOTALFRUIT  HEI2015C4_WHOLEFRUIT  \\\n",
       "count                   5060.00               5060.00               5060.00   \n",
       "mean                       1.81                  2.49                  2.36   \n",
       "std                        2.14                  1.95                  2.17   \n",
       "min                        0.00                  0.00                  0.00   \n",
       "25%                        0.00                  0.45                  0.00   \n",
       "50%                        0.06                  2.32                  2.08   \n",
       "75%                        4.50                  4.94                  5.00   \n",
       "95%                        5.00                  5.00                  5.00   \n",
       "99%                        5.00                  5.00                  5.00   \n",
       "max                        5.00                  5.00                  5.00   \n",
       "\n",
       "       HEI2015C5_WHOLEGRAIN  HEI2015C6_TOTALDAIRY  HEI2015C7_TOTPROT  \\\n",
       "count               5060.00               5060.00            5060.00   \n",
       "mean                   1.76                  3.76               4.43   \n",
       "std                    1.92                  1.61               1.01   \n",
       "min                    0.00                  0.00               0.00   \n",
       "25%                    0.00                  2.59               4.17   \n",
       "50%                    1.03                  4.94               5.00   \n",
       "75%                    3.41                  5.00               5.00   \n",
       "95%                    5.00                  5.00               5.00   \n",
       "99%                    5.00                  5.00               5.00   \n",
       "max                    5.00                  5.00               5.00   \n",
       "\n",
       "       HEI2015C8_SEAPLANT_PROT  HEI2015C9_FATTYACID  HEI2015C10_SODIUM  \\\n",
       "count                  5060.00              5060.00            5060.00   \n",
       "mean                      2.59                 4.71               4.76   \n",
       "std                       2.17                 3.24               3.42   \n",
       "min                       0.00                 0.00               0.00   \n",
       "25%                       0.00                 2.02               1.59   \n",
       "50%                       2.59                 4.43               4.83   \n",
       "75%                       5.00                 7.27               7.65   \n",
       "95%                       5.00                10.00              10.00   \n",
       "99%                       5.00                10.00              10.00   \n",
       "max                       5.00                10.00              10.00   \n",
       "\n",
       "       HEI2015C11_REFINEDGRAIN  HEI2015C12_SFAT  HEI2015C13_ADDSUG  \\\n",
       "count                  5060.00          5060.00            5060.00   \n",
       "mean                      5.80             6.07               6.22   \n",
       "std                       3.50             3.18               3.33   \n",
       "min                       0.00             0.00               0.00   \n",
       "25%                       2.93             3.70               3.72   \n",
       "50%                       6.23             6.41               6.86   \n",
       "75%                       9.25             9.00               9.45   \n",
       "95%                      10.00            10.00              10.00   \n",
       "99%                      10.00            10.00              10.00   \n",
       "max                      10.00            10.00              10.00   \n",
       "\n",
       "       HEI2015_TOTAL_SCORE     phq9  \n",
       "count              5060.00  4799.00  \n",
       "mean                 49.97     2.73  \n",
       "std                  12.32     3.73  \n",
       "min                  16.06     0.00  \n",
       "25%                  41.03     0.00  \n",
       "50%                  49.51     1.00  \n",
       "75%                  58.17     4.00  \n",
       "95%                  71.19    10.00  \n",
       "99%                  79.86    17.00  \n",
       "max                  89.53    27.00  "
      ]
     },
     "execution_count": 32,
     "metadata": {},
     "output_type": "execute_result"
    }
   ],
   "source": [
    "db2[var_quant].describe(percentiles = [.25, .5, .75, .95, .99]).round(2)"
   ]
  },
  {
   "cell_type": "markdown",
   "id": "9bc663f3",
   "metadata": {},
   "source": [
    "Since a week has a maximum of 168 hours (10080 minutes) the maximum value of PAG_MINW does not seem to be a possible value. In this case, we will truncate the value of PAG_MINW in 3600 minutes (60h per week)."
   ]
  },
  {
   "cell_type": "code",
   "execution_count": 33,
   "id": "fb446406",
   "metadata": {},
   "outputs": [
    {
     "data": {
      "text/html": [
       "<div>\n",
       "<style scoped>\n",
       "    .dataframe tbody tr th:only-of-type {\n",
       "        vertical-align: middle;\n",
       "    }\n",
       "\n",
       "    .dataframe tbody tr th {\n",
       "        vertical-align: top;\n",
       "    }\n",
       "\n",
       "    .dataframe thead th {\n",
       "        text-align: right;\n",
       "    }\n",
       "</style>\n",
       "<table border=\"1\" class=\"dataframe\">\n",
       "  <thead>\n",
       "    <tr style=\"text-align: right;\">\n",
       "      <th></th>\n",
       "      <th>PAG_MINW</th>\n",
       "      <th>PAG_MINW_trunc</th>\n",
       "    </tr>\n",
       "  </thead>\n",
       "  <tbody>\n",
       "    <tr>\n",
       "      <th>count</th>\n",
       "      <td>5334.00</td>\n",
       "      <td>5334.00</td>\n",
       "    </tr>\n",
       "    <tr>\n",
       "      <th>mean</th>\n",
       "      <td>471.77</td>\n",
       "      <td>454.86</td>\n",
       "    </tr>\n",
       "    <tr>\n",
       "      <th>std</th>\n",
       "      <td>780.35</td>\n",
       "      <td>663.05</td>\n",
       "    </tr>\n",
       "    <tr>\n",
       "      <th>min</th>\n",
       "      <td>0.00</td>\n",
       "      <td>0.00</td>\n",
       "    </tr>\n",
       "    <tr>\n",
       "      <th>25%</th>\n",
       "      <td>35.00</td>\n",
       "      <td>35.00</td>\n",
       "    </tr>\n",
       "    <tr>\n",
       "      <th>50%</th>\n",
       "      <td>210.00</td>\n",
       "      <td>210.00</td>\n",
       "    </tr>\n",
       "    <tr>\n",
       "      <th>75%</th>\n",
       "      <td>568.93</td>\n",
       "      <td>568.93</td>\n",
       "    </tr>\n",
       "    <tr>\n",
       "      <th>95%</th>\n",
       "      <td>1863.05</td>\n",
       "      <td>1863.05</td>\n",
       "    </tr>\n",
       "    <tr>\n",
       "      <th>99%</th>\n",
       "      <td>3672.06</td>\n",
       "      <td>3600.00</td>\n",
       "    </tr>\n",
       "    <tr>\n",
       "      <th>max</th>\n",
       "      <td>10777.83</td>\n",
       "      <td>3600.00</td>\n",
       "    </tr>\n",
       "  </tbody>\n",
       "</table>\n",
       "</div>"
      ],
      "text/plain": [
       "       PAG_MINW  PAG_MINW_trunc\n",
       "count   5334.00         5334.00\n",
       "mean     471.77          454.86\n",
       "std      780.35          663.05\n",
       "min        0.00            0.00\n",
       "25%       35.00           35.00\n",
       "50%      210.00          210.00\n",
       "75%      568.93          568.93\n",
       "95%     1863.05         1863.05\n",
       "99%     3672.06         3600.00\n",
       "max    10777.83         3600.00"
      ]
     },
     "execution_count": 33,
     "metadata": {},
     "output_type": "execute_result"
    }
   ],
   "source": [
    "db2['PAG_MINW_trunc'] = np.where(db2['PAG_MINW'] > 3600, 3600, db2['PAG_MINW'])\n",
    "\n",
    "db2[['PAG_MINW', 'PAG_MINW_trunc']].describe(percentiles = [.25, .5, .75, .95, .99]).round(2)"
   ]
  },
  {
   "cell_type": "markdown",
   "id": "8d792906",
   "metadata": {},
   "source": [
    "We can transform the PAG_MINW variable into hours:"
   ]
  },
  {
   "cell_type": "code",
   "execution_count": 34,
   "id": "b059cb3e",
   "metadata": {},
   "outputs": [],
   "source": [
    "db2[\"PAG_HRW\"] = db2[\"PAG_MINW_trunc\"]/60"
   ]
  },
  {
   "cell_type": "code",
   "execution_count": 39,
   "id": "2efd6cc3",
   "metadata": {},
   "outputs": [
    {
     "data": {
      "image/png": "[encoded data removed]",
      "text/plain": [
       "<Figure size 360x360 with 1 Axes>"
      ]
     },
     "metadata": {
      "needs_background": "light"
     },
     "output_type": "display_data"
    },
    {
     "data": {
      "image/png": "[encoded data removed]",
      "text/plain": [
       "<Figure size 360x360 with 1 Axes>"
      ]
     },
     "metadata": {
      "needs_background": "light"
     },
     "output_type": "display_data"
    },
    {
     "data": {
      "image/png": "[encoded data removed]",
      "text/plain": [
       "<Figure size 360x360 with 1 Axes>"
      ]
     },
     "metadata": {
      "needs_background": "light"
     },
     "output_type": "display_data"
    },
    {
     "data": {
      "image/png": "[encoded data removed]",
      "text/plain": [
       "<Figure size 360x360 with 1 Axes>"
      ]
     },
     "metadata": {
      "needs_background": "light"
     },
     "output_type": "display_data"
    }
   ],
   "source": [
    "sns.displot(db2, x=\"RIDAGEYR\", kde=True)\n",
    "sns.displot(db2, x=\"INDFMINC\", kde=True)\n",
    "sns.displot(db2, x=\"PAG_MINW_trunc\", kde=True)\n",
    "sns.displot(db2, x=\"PAG_HRW\", kde=True)\n",
    "plt.show()"
   ]
  },
  {
   "cell_type": "markdown",
   "id": "a28a0e24",
   "metadata": {},
   "source": [
    "As the PAG_HRW variable is quite asymmetric, we can also create a version with the log:"
   ]
  },
  {
   "cell_type": "code",
   "execution_count": 40,
   "id": "bc609d8b",
   "metadata": {},
   "outputs": [],
   "source": [
    "db2[\"PAG_HRW_log\"] = np.log(db2[\"PAG_HRW\"] + 1)"
   ]
  },
  {
   "cell_type": "code",
   "execution_count": 41,
   "id": "9f66d093",
   "metadata": {},
   "outputs": [
    {
     "data": {
      "image/png": "[encoded data removed]",
      "text/plain": [
       "<Figure size 360x360 with 1 Axes>"
      ]
     },
     "metadata": {
      "needs_background": "light"
     },
     "output_type": "display_data"
    }
   ],
   "source": [
    "sns.displot(db2, x=\"PAG_HRW_log\", kde=True)\n",
    "plt.show()"
   ]
  },
  {
   "cell_type": "markdown",
   "id": "f0ec6a85",
   "metadata": {},
   "source": [
    "Building function to build bar graphs:"
   ]
  },
  {
   "cell_type": "code",
   "execution_count": 45,
   "id": "ea6833cf",
   "metadata": {},
   "outputs": [],
   "source": [
    "def grafico_barras_prop(data, variable):\n",
    "    (data[[variable]]\n",
    "     .value_counts(normalize=True, sort = False)\n",
    "     .rename(\"Proportion\")\n",
    "     .reset_index()\n",
    "     .pipe((sns.barplot, \"data\"), x=variable, y=\"Proportion\"))\n",
    "    plt.ylim(0,1)\n",
    "    plt.show()"
   ]
  },
  {
   "cell_type": "code",
   "execution_count": 43,
   "id": "01a9e134",
   "metadata": {},
   "outputs": [
    {
     "data": {
      "image/png": "[encoded data removed]",
      "text/plain": [
       "<Figure size 432x288 with 1 Axes>"
      ]
     },
     "metadata": {
      "needs_background": "light"
     },
     "output_type": "display_data"
    }
   ],
   "source": [
    "grafico_barras_prop(db2.replace(label_quali), variable = \"RIAGENDR\")"
   ]
  },
  {
   "cell_type": "code",
   "execution_count": 44,
   "id": "b0b98e01",
   "metadata": {},
   "outputs": [
    {
     "data": {
      "image/png": "[encoded data removed]",
      "text/plain": [
       "<Figure size 432x288 with 1 Axes>"
      ]
     },
     "metadata": {
      "needs_background": "light"
     },
     "output_type": "display_data"
    }
   ],
   "source": [
    "grafico_barras_prop(db2.replace(label_quali), \n",
    "                    variable = \"RIDRETH1\")"
   ]
  },
  {
   "cell_type": "code",
   "execution_count": 46,
   "id": "1e2ba739",
   "metadata": {},
   "outputs": [
    {
     "data": {
      "image/png": "[encoded data removed]",
      "text/plain": [
       "<Figure size 432x288 with 1 Axes>"
      ]
     },
     "metadata": {
      "needs_background": "light"
     },
     "output_type": "display_data"
    }
   ],
   "source": [
    "grafico_barras_prop(db2.replace(label_quali), \n",
    "                    variable = \"DMDEDUC\")"
   ]
  },
  {
   "cell_type": "code",
   "execution_count": 47,
   "id": "3e453705",
   "metadata": {},
   "outputs": [
    {
     "data": {
      "image/png": "[encoded data removed]",
      "text/plain": [
       "<Figure size 432x288 with 1 Axes>"
      ]
     },
     "metadata": {
      "needs_background": "light"
     },
     "output_type": "display_data"
    }
   ],
   "source": [
    "grafico_barras_prop(db2.replace(label_quali), \n",
    "                    variable = \"ADHERENCE\")"
   ]
  },
  {
   "cell_type": "code",
   "execution_count": 48,
   "id": "52cf0140",
   "metadata": {},
   "outputs": [
    {
     "data": {
      "image/png": "[encoded data removed]",
      "text/plain": [
       "<Figure size 432x288 with 1 Axes>"
      ]
     },
     "metadata": {
      "needs_background": "light"
     },
     "output_type": "display_data"
    }
   ],
   "source": [
    "grafico_barras_prop(db2.replace(label_quali), \n",
    "                    variable = \"phq_grp2\")"
   ]
  },
  {
   "cell_type": "markdown",
   "id": "cb3a6ddd",
   "metadata": {},
   "source": [
    "<a id='number_5'></a>\n",
    "### 5. Exploratory Data Analysis (EDA) - Bivariate Analysis + Statistical hypothesis testing"
   ]
  },
  {
   "cell_type": "markdown",
   "id": "cd8c2626",
   "metadata": {},
   "source": [
    "Function to build boxplot plots for a quantitative variable versus depression group"
   ]
  },
  {
   "cell_type": "code",
   "execution_count": 54,
   "id": "619a22b1",
   "metadata": {},
   "outputs": [],
   "source": [
    "# Função para construir boxplot\n",
    "\n",
    "def grafico_boxplot_grp(data, variable, label):\n",
    "    \n",
    "    if label == \"\": label = variable\n",
    "    sns.boxplot(x=\"phq_grp2\", y=variable, data=data)\n",
    "    plt.ylabel(label)\n",
    "    plt.show()"
   ]
  },
  {
   "cell_type": "markdown",
   "id": "f4ccce41",
   "metadata": {},
   "source": [
    "### A) Profile with higher incidence of symptoms of depression"
   ]
  },
  {
   "cell_type": "code",
   "execution_count": 51,
   "id": "a7b29cec",
   "metadata": {},
   "outputs": [
    {
     "data": {
      "image/png": "[encoded data removed]",
      "text/plain": [
       "<Figure size 432x288 with 1 Axes>"
      ]
     },
     "metadata": {
      "needs_background": "light"
     },
     "output_type": "display_data"
    }
   ],
   "source": [
    "grafico_boxplot_grp(db2.replace(label_quali), \"RIDAGEYR\", \"Idade\")"
   ]
  },
  {
   "cell_type": "markdown",
   "id": "bf78839d",
   "metadata": {},
   "source": [
    "Hypothesis test:\n",
    "\n",
    "In this case we want to compare the mean age for the three groups of depression symptoms. Therefore, the ANOVA F test will be used. In this test, we decided between the null hypothesis \"There is no difference between the depression groups regarding the mean age\" and the alternative hypothesis \"There is at least one difference in the mean age between the groups of depression symptoms\"."
   ]
  },
  {
   "cell_type": "code",
   "execution_count": 52,
   "id": "f69043c4",
   "metadata": {},
   "outputs": [
    {
     "name": "stdout",
     "output_type": "stream",
     "text": [
      "stat=1.002, p=0.367\n"
     ]
    }
   ],
   "source": [
    "from scipy.stats import f_oneway\n",
    "\n",
    "db_aux = db2[[\"phq_grp2\", \"RIDAGEYR\"]].dropna()\n",
    "\n",
    "stat, p = f_oneway(db_aux[(db_aux.phq_grp2 == 0)][\"RIDAGEYR\"],\n",
    "                   db_aux[(db_aux.phq_grp2 == 1)][\"RIDAGEYR\"],\n",
    "                   db_aux[(db_aux.phq_grp2 == 2)][\"RIDAGEYR\"])\n",
    "\n",
    "print('stat=%.3f, p=%.3f' % (stat, p))"
   ]
  },
  {
   "cell_type": "markdown",
   "id": "15f885a3",
   "metadata": {},
   "source": [
    "The p-value of the test was p = 0.367. Interpretation of the p-value: If the null hypothesis were true, how likely are we to see the differences that we are seeing in the sample?\n",
    "\n",
    "In this case, the probability is high (p = 0.367), that is, what we are observing in the sample is something very likely to occur if the null hypothesis is true and, therefore, we have no evidence to reject the null hypothesis. Therefore, we were not able to detect a statistically significant difference between the depression groups regarding the mean age."
   ]
  },
  {
   "cell_type": "code",
   "execution_count": 53,
   "id": "089b12ca",
   "metadata": {},
   "outputs": [
    {
     "data": {
      "image/png": "[encoded data removed]",
      "text/plain": [
       "<Figure size 432x288 with 1 Axes>"
      ]
     },
     "metadata": {
      "needs_background": "light"
     },
     "output_type": "display_data"
    }
   ],
   "source": [
    "grafico_boxplot_grp(db2.replace(label_quali), \"INDFMINC\", \"Renda Anual Familiar (US$)\")"
   ]
  },
  {
   "cell_type": "markdown",
   "id": "39263ad1",
   "metadata": {},
   "source": [
    "Hypothesis test:"
   ]
  },
  {
   "cell_type": "code",
   "execution_count": 55,
   "id": "df29d963",
   "metadata": {},
   "outputs": [
    {
     "name": "stdout",
     "output_type": "stream",
     "text": [
      "stat=50.376, p=0.000\n"
     ]
    }
   ],
   "source": [
    "from scipy.stats import f_oneway\n",
    "\n",
    "db_aux = db2[[\"phq_grp2\", \"INDFMINC\"]].dropna()\n",
    "\n",
    "stat, p = f_oneway(db_aux[(db_aux.phq_grp2 == 0)][\"INDFMINC\"],\n",
    "                   db_aux[(db_aux.phq_grp2 == 1)][\"INDFMINC\"],\n",
    "                   db_aux[(db_aux.phq_grp2 == 2)][\"INDFMINC\"])\n",
    "\n",
    "print('stat=%.3f, p=%.3f' % (stat, p))"
   ]
  },
  {
   "cell_type": "markdown",
   "id": "5813baa9",
   "metadata": {},
   "source": [
    "In this case we are testing the null hypothesis \"There is no difference between depression groups with respect to average income\". As p < 0.05, we have that the probability of observing what we are observing in this sample is low (close to zero) if the null hypothesis were true. In this case, we have evidence that the null hypothesis is not true (we reject the null hypothesis).\n",
    "\n",
    "As the F test only tells us that there is at least one difference between the symptom groups with respect to average income, we will perform multiple comparisons to investigate which differences are significant:"
   ]
  },
  {
   "cell_type": "code",
   "execution_count": 56,
   "id": "385640c3",
   "metadata": {},
   "outputs": [
    {
     "name": "stdout",
     "output_type": "stream",
     "text": [
      "     Multiple Comparison of Means - Tukey HSD, FWER=0.05      \n",
      "==============================================================\n",
      "group1 group2   meandiff  p-adj    lower       upper    reject\n",
      "--------------------------------------------------------------\n",
      "   0.0    1.0  -5537.0284 0.001  -8305.9614  -2768.0954   True\n",
      "   0.0    2.0 -13537.8408 0.001 -16971.2327 -10104.4489   True\n",
      "   1.0    2.0  -8000.8124 0.001 -12223.0265  -3778.5983   True\n",
      "--------------------------------------------------------------\n"
     ]
    }
   ],
   "source": [
    "from statsmodels.stats.multicomp import pairwise_tukeyhsd\n",
    "\n",
    "tukey = pairwise_tukeyhsd(db_aux['INDFMINC'],\n",
    "                  db_aux['phq_grp2'],\n",
    "                  alpha = 0.05)\n",
    "\n",
    "print(tukey)"
   ]
  },
  {
   "cell_type": "markdown",
   "id": "8b74cb37",
   "metadata": {},
   "source": [
    "With multiple comparisons, we are performing three hypothesis tests **simultaneously**. Because of this, the function adjusts the p-value so that the maximum error from this hypothesis test set is at most alpha = 0.05.\n",
    "\n",
    "Test 1: Group 0 (No symptoms) x Group 1 (mild symptoms) -> p = 0.001\n",
    "\n",
    "Test 2: Group 0 (No symptoms) x Group 2 (moderate-severe symptoms) -> p = 0.001\n",
    "\n",
    "Test 3: Group 1 (mild symptoms) x Group 2 (moderate-severe symptoms) -> p = 0.001\n",
    "\n",
    "In this case, we reject all null hypotheses. Therefore, we have evidence that:\n",
    "\n",
    "1. The average income of the No symptoms group is different from the average income of the mild symptoms group\n",
    "2. The median income of the No symptoms group is different from the median income of the moderate-severe symptoms group\n",
    "3. The average income of the mild symptoms group is different from the average income of the moderate-severe symptoms group"
   ]
  },
  {
   "cell_type": "code",
   "execution_count": 57,
   "id": "61c118dc",
   "metadata": {},
   "outputs": [
    {
     "data": {
      "image/png": "[encoded data removed]",
      "text/plain": [
       "<Figure size 432x288 with 1 Axes>"
      ]
     },
     "metadata": {
      "needs_background": "light"
     },
     "output_type": "display_data"
    }
   ],
   "source": [
    "grafico_boxplot_grp(db2.replace(label_quali), \"PAG_HRW_log\", \"Log Atividade Física (h/semana)\")"
   ]
  },
  {
   "cell_type": "code",
   "execution_count": 58,
   "id": "bc1ca939",
   "metadata": {},
   "outputs": [
    {
     "name": "stdout",
     "output_type": "stream",
     "text": [
      "stat=31.185, p=0.000\n"
     ]
    }
   ],
   "source": [
    "from scipy.stats import f_oneway\n",
    "\n",
    "db_aux = db2[[\"phq_grp2\", \"PAG_HRW_log\"]].dropna()\n",
    "\n",
    "stat, p = f_oneway(db_aux[(db_aux.phq_grp2 == 0)][\"PAG_HRW_log\"],\n",
    "                   db_aux[(db_aux.phq_grp2 == 1)][\"PAG_HRW_log\"],\n",
    "                   db_aux[(db_aux.phq_grp2 == 2)][\"PAG_HRW_log\"])\n",
    "\n",
    "print('stat=%.3f, p=%.3f' % (stat, p))"
   ]
  },
  {
   "cell_type": "code",
   "execution_count": 59,
   "id": "badbe80a",
   "metadata": {},
   "outputs": [
    {
     "name": "stdout",
     "output_type": "stream",
     "text": [
      "Multiple Comparison of Means - Tukey HSD, FWER=0.05 \n",
      "====================================================\n",
      "group1 group2 meandiff p-adj   lower   upper  reject\n",
      "----------------------------------------------------\n",
      "   0.0    1.0  -0.1483 0.0157 -0.2739 -0.0226   True\n",
      "   0.0    2.0  -0.5119  0.001 -0.6697 -0.3542   True\n",
      "   1.0    2.0  -0.3636  0.001 -0.5566 -0.1707   True\n",
      "----------------------------------------------------\n"
     ]
    }
   ],
   "source": [
    "from statsmodels.stats.multicomp import pairwise_tukeyhsd\n",
    "\n",
    "tukey = pairwise_tukeyhsd(db_aux['PAG_HRW_log'],\n",
    "                  db_aux['phq_grp2'],\n",
    "                  alpha = 0.05)\n",
    "\n",
    "print(tukey)"
   ]
  },
  {
   "cell_type": "code",
   "execution_count": 60,
   "id": "e2428cae",
   "metadata": {},
   "outputs": [
    {
     "data": {
      "image/png": "[encoded data removed]",
      "text/plain": [
       "<Figure size 432x288 with 1 Axes>"
      ]
     },
     "metadata": {
      "needs_background": "light"
     },
     "output_type": "display_data"
    }
   ],
   "source": [
    "grafico_boxplot_grp(db2.replace(label_quali), \"HEI2015_TOTAL_SCORE\", \"HEI - Escore total\")"
   ]
  },
  {
   "cell_type": "code",
   "execution_count": 61,
   "id": "1aa6f5de",
   "metadata": {},
   "outputs": [
    {
     "name": "stdout",
     "output_type": "stream",
     "text": [
      "stat=7.119, p=0.001\n"
     ]
    }
   ],
   "source": [
    "from scipy.stats import f_oneway\n",
    "\n",
    "db_aux = db2[[\"phq_grp2\", \"HEI2015_TOTAL_SCORE\"]].dropna()\n",
    "\n",
    "stat, p = f_oneway(db_aux[(db_aux.phq_grp2 == 0)][\"HEI2015_TOTAL_SCORE\"],\n",
    "                   db_aux[(db_aux.phq_grp2 == 1)][\"HEI2015_TOTAL_SCORE\"],\n",
    "                   db_aux[(db_aux.phq_grp2 == 2)][\"HEI2015_TOTAL_SCORE\"])\n",
    "\n",
    "print('stat=%.3f, p=%.3f' % (stat, p))"
   ]
  },
  {
   "cell_type": "code",
   "execution_count": 62,
   "id": "fa21daf1",
   "metadata": {},
   "outputs": [
    {
     "name": "stdout",
     "output_type": "stream",
     "text": [
      "Multiple Comparison of Means - Tukey HSD, FWER=0.05 \n",
      "====================================================\n",
      "group1 group2 meandiff p-adj   lower   upper  reject\n",
      "----------------------------------------------------\n",
      "   0.0    1.0  -1.1066 0.1546 -2.5111  0.2978  False\n",
      "   0.0    2.0  -2.5846 0.0017  -4.348 -0.8211   True\n",
      "   1.0    2.0  -1.4779 0.2437 -3.6364  0.6805  False\n",
      "----------------------------------------------------\n"
     ]
    }
   ],
   "source": [
    "from statsmodels.stats.multicomp import pairwise_tukeyhsd\n",
    "\n",
    "tukey = pairwise_tukeyhsd(db_aux['HEI2015_TOTAL_SCORE'],\n",
    "                  db_aux['phq_grp2'],\n",
    "                  alpha = 0.05)\n",
    "\n",
    "print(tukey)"
   ]
  },
  {
   "cell_type": "markdown",
   "id": "33b217c4",
   "metadata": {},
   "source": [
    "### B) Perfil de hábitos saudáveis"
   ]
  },
  {
   "cell_type": "markdown",
   "id": "bce7c873",
   "metadata": {},
   "source": [
    "Alimentação saudável x Exercícios Físicos"
   ]
  },
  {
   "cell_type": "code",
   "execution_count": 63,
   "id": "030de3cc",
   "metadata": {},
   "outputs": [
    {
     "data": {
      "image/png": "[encoded data removed]",
      "text/plain": [
       "<Figure size 432x288 with 1 Axes>"
      ]
     },
     "metadata": {
      "needs_background": "light"
     },
     "output_type": "display_data"
    },
    {
     "data": {
      "image/png": "[encoded data removed]",
      "text/plain": [
       "<Figure size 1080x360 with 2 Axes>"
      ]
     },
     "metadata": {
      "needs_background": "light"
     },
     "output_type": "display_data"
    }
   ],
   "source": [
    "sns.boxplot(y=\"ADHERENCE\", \n",
    "            x=\"HEI2015_TOTAL_SCORE\", \n",
    "            orient=\"h\",\n",
    "            data=db2.replace(label_quali))\n",
    "plt.show()\n",
    "\n",
    "fig, ax = plt.subplots(ncols=2, figsize=(15,5))\n",
    "\n",
    "sns.regplot(x = 'HEI2015_TOTAL_SCORE', \n",
    "            y = 'PAG_HRW', \n",
    "            lowess=True, \n",
    "            line_kws={'color': 'red'},\n",
    "            data = db2,\n",
    "            ax = ax[0])\n",
    "\n",
    "sns.regplot(x = 'HEI2015_TOTAL_SCORE', \n",
    "            y = 'PAG_HRW_log', \n",
    "            lowess=True, \n",
    "            line_kws={'color': 'red'},\n",
    "            data = db2,\n",
    "            ax = ax[1])\n",
    "plt.show()"
   ]
  },
  {
   "cell_type": "code",
   "execution_count": 64,
   "id": "6e478dcb",
   "metadata": {},
   "outputs": [
    {
     "name": "stdout",
     "output_type": "stream",
     "text": [
      "stat=4.122, p=0.016\n"
     ]
    }
   ],
   "source": [
    "from scipy.stats import f_oneway\n",
    "\n",
    "db_aux = db2[[\"ADHERENCE\", \"HEI2015_TOTAL_SCORE\"]].dropna()\n",
    "\n",
    "stat, p = f_oneway(db_aux[(db_aux.ADHERENCE == 1)][\"HEI2015_TOTAL_SCORE\"],\n",
    "                   db_aux[(db_aux.ADHERENCE == 2)][\"HEI2015_TOTAL_SCORE\"],\n",
    "                   db_aux[(db_aux.ADHERENCE == 3)][\"HEI2015_TOTAL_SCORE\"])\n",
    "\n",
    "print('stat=%.3f, p=%.3f' % (stat, p))"
   ]
  },
  {
   "cell_type": "code",
   "execution_count": 65,
   "id": "252358e5",
   "metadata": {},
   "outputs": [
    {
     "name": "stdout",
     "output_type": "stream",
     "text": [
      "Multiple Comparison of Means - Tukey HSD, FWER=0.05\n",
      "===================================================\n",
      "group1 group2 meandiff p-adj   lower  upper  reject\n",
      "---------------------------------------------------\n",
      "   1.0    2.0   0.3937 0.7031  -0.805 1.5924  False\n",
      "   1.0    3.0   1.0773  0.012  0.1931 1.9616   True\n",
      "   2.0    3.0   0.6837  0.378 -0.5186 1.8859  False\n",
      "---------------------------------------------------\n"
     ]
    }
   ],
   "source": [
    "from statsmodels.stats.multicomp import pairwise_tukeyhsd\n",
    "\n",
    "tukey = pairwise_tukeyhsd(db_aux['HEI2015_TOTAL_SCORE'],\n",
    "                  db_aux['ADHERENCE'],\n",
    "                  alpha = 0.05)\n",
    "\n",
    "print(tukey)"
   ]
  },
  {
   "cell_type": "markdown",
   "id": "b46bba9a",
   "metadata": {},
   "source": [
    "Healthy Habits x Gender\n"
   ]
  },
  {
   "cell_type": "code",
   "execution_count": 66,
   "id": "9c8bd39c",
   "metadata": {},
   "outputs": [
    {
     "data": {
      "image/png": "[encoded data removed]",
      "text/plain": [
       "<Figure size 504x360 with 1 Axes>"
      ]
     },
     "metadata": {
      "needs_background": "light"
     },
     "output_type": "display_data"
    },
    {
     "data": {
      "image/png": "[encoded data removed]",
      "text/plain": [
       "<Figure size 1080x360 with 2 Axes>"
      ]
     },
     "metadata": {
      "needs_background": "light"
     },
     "output_type": "display_data"
    }
   ],
   "source": [
    "plt.figure(figsize=(7,5))\n",
    "sns.boxplot(x=\"RIAGENDR\", \n",
    "            y=\"HEI2015_TOTAL_SCORE\", \n",
    "            data=db2.replace(label_quali))\n",
    "plt.show()\n",
    "\n",
    "fig, ax = plt.subplots(ncols=2, figsize=(15,5))\n",
    "sns.boxplot(x=\"RIAGENDR\", \n",
    "            y=\"PAG_HRW\", \n",
    "            data=db2.replace(label_quali),\n",
    "            ax = ax[0])\n",
    "\n",
    "sns.boxplot(x=\"RIAGENDR\", \n",
    "            y=\"PAG_HRW_log\", \n",
    "            data=db2.replace(label_quali),\n",
    "            ax = ax[1])\n",
    "plt.show()"
   ]
  },
  {
   "cell_type": "code",
   "execution_count": 67,
   "id": "2621adf8",
   "metadata": {},
   "outputs": [
    {
     "name": "stdout",
     "output_type": "stream",
     "text": [
      "stat=27.216, p=0.000\n"
     ]
    }
   ],
   "source": [
    "from scipy.stats import f_oneway\n",
    "\n",
    "db_aux = db2[[\"RIAGENDR\", \"PAG_HRW\", \"PAG_HRW_log\", \"HEI2015_TOTAL_SCORE\"]].dropna()\n",
    "\n",
    "stat, p = f_oneway(db_aux[(db_aux.RIAGENDR == 1)][\"HEI2015_TOTAL_SCORE\"],\n",
    "                   db_aux[(db_aux.RIAGENDR == 2)][\"HEI2015_TOTAL_SCORE\"])\n",
    "\n",
    "print('stat=%.3f, p=%.3f' % (stat, p))"
   ]
  },
  {
   "cell_type": "code",
   "execution_count": 68,
   "id": "bb49c63d",
   "metadata": {},
   "outputs": [
    {
     "name": "stdout",
     "output_type": "stream",
     "text": [
      "stat=50.329, p=0.000\n"
     ]
    }
   ],
   "source": [
    "from scipy.stats import f_oneway\n",
    "\n",
    "db_aux = db2[[\"RIAGENDR\", \"PAG_HRW\", \"PAG_HRW_log\", \"HEI2015_TOTAL_SCORE\"]].dropna()\n",
    "\n",
    "stat, p = f_oneway(db_aux[(db_aux.RIAGENDR == 1)][\"PAG_HRW_log\"],\n",
    "                   db_aux[(db_aux.RIAGENDR == 2)][\"PAG_HRW_log\"])\n",
    "\n",
    "print('stat=%.3f, p=%.3f' % (stat, p))"
   ]
  },
  {
   "cell_type": "markdown",
   "id": "2b482dfa",
   "metadata": {},
   "source": [
    "Healthy habits and racial identity:"
   ]
  },
  {
   "cell_type": "code",
   "execution_count": 69,
   "id": "9d8b133d",
   "metadata": {},
   "outputs": [
    {
     "data": {
      "image/png": "[encoded data removed]",
      "text/plain": [
       "<Figure size 504x360 with 1 Axes>"
      ]
     },
     "metadata": {
      "needs_background": "light"
     },
     "output_type": "display_data"
    },
    {
     "data": {
      "image/png": "[encoded data removed]",
      "text/plain": [
       "<Figure size 1080x360 with 2 Axes>"
      ]
     },
     "metadata": {
      "needs_background": "light"
     },
     "output_type": "display_data"
    }
   ],
   "source": [
    "plt.figure(figsize=(7,5))\n",
    "sns.boxplot(x=\"RIDRETH1\", \n",
    "            y=\"HEI2015_TOTAL_SCORE\", \n",
    "            data=db2.replace(label_quali))\n",
    "plt.show()\n",
    "\n",
    "fig, ax = plt.subplots(ncols=2, figsize=(15,5))\n",
    "sns.boxplot(x=\"RIDRETH1\", \n",
    "            y=\"PAG_HRW\", \n",
    "            data=db2.replace(label_quali),\n",
    "            ax = ax[0])\n",
    "\n",
    "sns.boxplot(x=\"RIDRETH1\", \n",
    "            y=\"PAG_HRW_log\", \n",
    "            data=db2.replace(label_quali),\n",
    "            ax = ax[1])\n",
    "plt.show()"
   ]
  },
  {
   "cell_type": "code",
   "execution_count": 70,
   "id": "f6af16e6",
   "metadata": {},
   "outputs": [
    {
     "name": "stdout",
     "output_type": "stream",
     "text": [
      "stat=11.860, p=0.000\n"
     ]
    }
   ],
   "source": [
    "from scipy.stats import f_oneway\n",
    "\n",
    "db_aux = db2[[\"RIDRETH1\", \"PAG_HRW\", \"PAG_HRW_log\", \"HEI2015_TOTAL_SCORE\"]].dropna()\n",
    "\n",
    "stat, p = f_oneway(db_aux[(db_aux.RIDRETH1 == 1)][\"HEI2015_TOTAL_SCORE\"],\n",
    "                   db_aux[(db_aux.RIDRETH1 == 2)][\"HEI2015_TOTAL_SCORE\"],\n",
    "                   db_aux[(db_aux.RIDRETH1 == 3)][\"HEI2015_TOTAL_SCORE\"],\n",
    "                   db_aux[(db_aux.RIDRETH1 == 4)][\"HEI2015_TOTAL_SCORE\"])\n",
    "\n",
    "print('stat=%.3f, p=%.3f' % (stat, p))"
   ]
  },
  {
   "cell_type": "code",
   "execution_count": 71,
   "id": "ec72fa5f",
   "metadata": {},
   "outputs": [
    {
     "name": "stdout",
     "output_type": "stream",
     "text": [
      "Multiple Comparison of Means - Tukey HSD, FWER=0.05 \n",
      "====================================================\n",
      "group1 group2 meandiff p-adj   lower   upper  reject\n",
      "----------------------------------------------------\n",
      "     1      2   -0.964  0.556 -2.8709   0.943  False\n",
      "     1      3  -1.0955 0.0718 -2.2542  0.0632  False\n",
      "     1      4  -2.9767  0.001 -4.2992 -1.6541   True\n",
      "     2      3  -0.1315    0.9 -1.8988  1.6357  False\n",
      "     2      4  -2.0127 0.0302 -3.8914  -0.134   True\n",
      "     3      4  -1.8812  0.001 -2.9928 -0.7696   True\n",
      "----------------------------------------------------\n"
     ]
    }
   ],
   "source": [
    "from statsmodels.stats.multicomp import pairwise_tukeyhsd\n",
    "\n",
    "tukey = pairwise_tukeyhsd(db_aux['HEI2015_TOTAL_SCORE'],\n",
    "                  db_aux['RIDRETH1'],\n",
    "                  alpha = 0.05)\n",
    "\n",
    "print(tukey)"
   ]
  },
  {
   "cell_type": "code",
   "execution_count": 72,
   "id": "06d56637",
   "metadata": {},
   "outputs": [
    {
     "name": "stdout",
     "output_type": "stream",
     "text": [
      "stat=25.845, p=0.000\n"
     ]
    }
   ],
   "source": [
    "from scipy.stats import f_oneway\n",
    "\n",
    "stat, p = f_oneway(db_aux[(db_aux.RIDRETH1 == 1)][\"PAG_HRW_log\"],\n",
    "                   db_aux[(db_aux.RIDRETH1 == 2)][\"PAG_HRW_log\"],\n",
    "                   db_aux[(db_aux.RIDRETH1 == 3)][\"PAG_HRW_log\"],\n",
    "                   db_aux[(db_aux.RIDRETH1 == 4)][\"PAG_HRW_log\"])\n",
    "\n",
    "print('stat=%.3f, p=%.3f' % (stat, p))"
   ]
  },
  {
   "cell_type": "code",
   "execution_count": 73,
   "id": "fa055659",
   "metadata": {},
   "outputs": [
    {
     "name": "stdout",
     "output_type": "stream",
     "text": [
      "Multiple Comparison of Means - Tukey HSD, FWER=0.05 \n",
      "====================================================\n",
      "group1 group2 meandiff p-adj   lower   upper  reject\n",
      "----------------------------------------------------\n",
      "     1      2   0.3757  0.001  0.2016  0.5499   True\n",
      "     1      3   0.3502  0.001  0.2444   0.456   True\n",
      "     1      4    0.229  0.001  0.1082  0.3498   True\n",
      "     2      3  -0.0255    0.9 -0.1869  0.1359  False\n",
      "     2      4  -0.1467 0.1241 -0.3183  0.0248  False\n",
      "     3      4  -0.1212 0.0116 -0.2227 -0.0197   True\n",
      "----------------------------------------------------\n"
     ]
    }
   ],
   "source": [
    "from statsmodels.stats.multicomp import pairwise_tukeyhsd\n",
    "\n",
    "tukey = pairwise_tukeyhsd(db_aux['PAG_HRW_log'],\n",
    "                  db_aux['RIDRETH1'],\n",
    "                  alpha = 0.05)\n",
    "\n",
    "print(tukey)"
   ]
  },
  {
   "cell_type": "code",
   "execution_count": null,
   "id": "7585b39f",
   "metadata": {},
   "outputs": [],
   "source": []
  }
 ],
 "metadata": {
  "kernelspec": {
   "display_name": "Python 3 (ipykernel)",
   "language": "python",
   "name": "python3"
  },
  "language_info": {
   "codemirror_mode": {
    "name": "ipython",
    "version": 3
   },
   "file_extension": ".py",
   "mimetype": "text/x-python",
   "name": "python",
   "nbconvert_exporter": "python",
   "pygments_lexer": "ipython3",
   "version": "3.9.15"
  }
 },
 "nbformat": 4,
 "nbformat_minor": 5
}
